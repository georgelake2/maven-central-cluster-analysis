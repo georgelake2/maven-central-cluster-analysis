{
 "cells": [
  {
   "cell_type": "markdown",
   "id": "ebd311d4-3353-4ea6-855d-65415ebb2383",
   "metadata": {
    "tags": []
   },
   "source": [
    "# Mining Software Repositories(MSR) 2025 - Mining Challenge"
   ]
  },
  {
   "cell_type": "markdown",
   "id": "d2020bd3-bdac-430a-9832-112c45da1710",
   "metadata": {},
   "source": [
    "# Reaserch Question #2 (RQ2)"
   ]
  },
  {
   "cell_type": "markdown",
   "id": "7aef4fae-4de4-40f8-b568-a7a6a36488ad",
   "metadata": {},
   "source": [
    "**How can we assess and identify high-risk clusters of artifacts using a composite risk score derived from various risk metrics?**"
   ]
  },
  {
   "cell_type": "markdown",
   "id": "5f17b0a8-3bdd-4fee-bb72-c54f2eea6f88",
   "metadata": {},
   "source": [
    "### Risk factors to consider"
   ]
  },
  {
   "cell_type": "markdown",
   "id": "d54da043-e5b7-4767-8c99-e322ed0b5683",
   "metadata": {},
   "source": [
    "* **Total CVEs per Cluster:**\n",
    "* **Average CVE Severity Score (1-4 scale: LOW=1, MODERATE=2, HIGH=3, CRITICAL=4):**\n",
    "* **Average Time Since Last Update:**\n",
    "* **Average Freshness Score in Days:**\n",
    "* **Average Popularity Score:**\n",
    "* **Average Release Interval in Days:**\n",
    "* **Calculated Risk Score (From above metrics)**\n"
   ]
  },
  {
   "cell_type": "markdown",
   "id": "fbaa9678-ab24-4604-a2ca-d990f3a8ce9b",
   "metadata": {},
   "source": [
    "# Graph Setup"
   ]
  },
  {
   "cell_type": "code",
   "execution_count": 3,
   "id": "ac86760d-012b-43ed-9b36-2d2a9e7eeb1e",
   "metadata": {
    "tags": []
   },
   "outputs": [],
   "source": [
    "import pandas as pd\n",
    "import numpy as np\n",
    "import matplotlib.pyplot as plt\n",
    "import networkx as nx\n",
    "import json\n",
    "import os\n",
    "import re\n",
    "from sklearn.preprocessing import MinMaxScaler\n",
    "from sklearn.preprocessing import StandardScaler\n",
    "from sklearn.decomposition import PCA\n",
    "from datetime import datetime"
   ]
  },
  {
   "cell_type": "code",
   "execution_count": 90,
   "id": "9f336b3e-de0c-4b0f-8841-54b7740297f9",
   "metadata": {
    "tags": []
   },
   "outputs": [],
   "source": [
    "from neo4j import GraphDatabase\n",
    "\n",
    "#connect to the database\n",
    "uri = \"bolt://localhost:7687\"\n",
    "driver = GraphDatabase.driver(uri, auth=(\"neo4j\", \"Password1\"))"
   ]
  },
  {
   "cell_type": "code",
   "execution_count": 92,
   "id": "64064d19-5a7a-4236-a636-bf54a0fcaa1b",
   "metadata": {
    "tags": []
   },
   "outputs": [],
   "source": [
    "def execute_query(query, parameters=None):\n",
    "    with driver.session() as session:\n",
    "        result = session.run(query, parameters or {})\n",
    "        return result.data()"
   ]
  },
  {
   "cell_type": "code",
   "execution_count": 94,
   "id": "26d2a475-0f63-4ca1-9cc9-9aad98a8292b",
   "metadata": {},
   "outputs": [
    {
     "name": "stdout",
     "output_type": "stream",
     "text": [
      "[{'gdsVersion': '2.6.8'}]\n"
     ]
    }
   ],
   "source": [
    "gds_version = \"\"\"\n",
    "CALL gds.version()\n",
    "\"\"\"\n",
    "print(execute_query(gds_version))"
   ]
  },
  {
   "cell_type": "markdown",
   "id": "41776a12-8305-4144-ba94-b5bb84dd5764",
   "metadata": {},
   "source": [
    "## Goblin Weaver"
   ]
  },
  {
   "cell_type": "markdown",
   "id": "654c58a3-9241-4b04-a248-ff33b56f9e8f",
   "metadata": {},
   "source": [
    "**NOTE:** Used goblin weaver to update the AddedValues in the Database. Getting updated CVE information from the Open Source Vulnerability (OSV) database. Running Weaver does the following.\n",
    "\n",
    "* **Automatic Deletion:** Automatically deletes the CVE entries from the neo4J data. Leaves FRESHNESS, POPULARITY_1_YEAR, SPEED as they are internal data."
   ]
  },
  {
   "cell_type": "markdown",
   "id": "2cab9f65-4b05-407d-a9b2-bd2471a0f0aa",
   "metadata": {},
   "source": [
    "**Goblin Weaver Not Used** The database came with added metrics that were current up through 8/30/20204. This will be good enough for my analysis. \n",
    "I found that when trying to use the goblin weaver, it deleted my CVE from added values with the idea that it would be added back by querying updated databases at OSV. I had a hard time getting the weaver to add values back."
   ]
  },
  {
   "cell_type": "markdown",
   "id": "af1c8018-6ab0-4044-b643-6f7f6f18057f",
   "metadata": {},
   "source": [
    "## Added Value Nodes"
   ]
  },
  {
   "cell_type": "markdown",
   "id": "268a8cb5-51d4-4040-8c08-b825b34d6500",
   "metadata": {},
   "source": [
    "### Verify AddedValues Nodes Exist"
   ]
  },
  {
   "cell_type": "code",
   "execution_count": 14,
   "id": "7aab6354-f543-4361-b132-98075d4fbc49",
   "metadata": {},
   "outputs": [
    {
     "name": "stdout",
     "output_type": "stream",
     "text": [
      "Nodes Available: [{'nodeLabels': ['Artifact']}, {'nodeLabels': ['Release']}, {'nodeLabels': ['AddedValue']}]\n"
     ]
    }
   ],
   "source": [
    "# Fetch all node property keys from the database\n",
    "verify_nodes_query = \"\"\"\n",
    "MATCH (n) \n",
    "RETURN DISTINCT labels(n) AS nodeLabels\n",
    "\"\"\"\n",
    "result = execute_query(verify_nodes_query)\n",
    "print(f\"Nodes Available: {result}\")"
   ]
  },
  {
   "cell_type": "markdown",
   "id": "21d6f4e9-84cb-43de-89c4-6c893db0fb7e",
   "metadata": {},
   "source": [
    "### Find AddedValue Properties"
   ]
  },
  {
   "cell_type": "code",
   "execution_count": 16,
   "id": "5bcc3ac0-f188-4186-ac5d-4b3013bbd0d6",
   "metadata": {},
   "outputs": [
    {
     "data": {
      "text/plain": [
       "[{'properties': ['value', 'id', 'type'], 'count': 28772855}]"
      ]
     },
     "execution_count": 16,
     "metadata": {},
     "output_type": "execute_result"
    }
   ],
   "source": [
    "test_AV_query = \"\"\"\n",
    "MATCH (n:AddedValue)\n",
    "RETURN keys(n) AS properties, COUNT(*) AS count\n",
    "LIMIT 1\n",
    "    \"\"\"\n",
    "results = execute_query(test_AV_query)\n",
    "results"
   ]
  },
  {
   "cell_type": "markdown",
   "id": "4e0a0a01-7bc5-47fd-bfd7-63421311a26e",
   "metadata": {},
   "source": [
    "### Find the Possible Types"
   ]
  },
  {
   "cell_type": "code",
   "execution_count": 19,
   "id": "4fc8b73e-4d68-4cf1-8f40-8fc3dbc28f1b",
   "metadata": {},
   "outputs": [
    {
     "data": {
      "text/plain": [
       "[{'types': 'CVE'},\n",
       " {'types': 'FRESHNESS'},\n",
       " {'types': 'POPULARITY_1_YEAR'},\n",
       " {'types': 'SPEED'}]"
      ]
     },
     "execution_count": 19,
     "metadata": {},
     "output_type": "execute_result"
    }
   ],
   "source": [
    "test_AV_query = \"\"\"\n",
    "MATCH (n:AddedValue)\n",
    "RETURN DISTINCT n.type AS types\n",
    "    \"\"\"\n",
    "results = execute_query(test_AV_query)\n",
    "results"
   ]
  },
  {
   "cell_type": "markdown",
   "id": "b2937765-4252-443b-a56d-0666c14ca3f4",
   "metadata": {},
   "source": [
    "### Find One Artifact/Release That Has a CVE Property"
   ]
  },
  {
   "cell_type": "code",
   "execution_count": 22,
   "id": "56c56fb4-b469-4fca-b447-6166980c8167",
   "metadata": {},
   "outputs": [],
   "source": [
    "# Helper function to clean and unescape the JSON string\n",
    "def clean_json_string(json_str):\n",
    "    # Remove the escaping of quotes if necessary (unescape the string)\n",
    "    json_str = json_str.replace('\\\\\"', '\"')\n",
    "    \n",
    "    # Remove additional escaping if present (optional based on your data)\n",
    "    json_str = re.sub(r'\\\\+', '', json_str)\n",
    "    \n",
    "    return json_str"
   ]
  },
  {
   "cell_type": "code",
   "execution_count": 24,
   "id": "ac86a599-11da-4164-9fdc-3e9677b727c6",
   "metadata": {},
   "outputs": [
    {
     "name": "stdout",
     "output_type": "stream",
     "text": [
      "   Artifact ID                              Release ID  \\\n",
      "0  junit:junit  org.keycloak:keycloak-core:3.4.1.Final   \n",
      "\n",
      "                               Added Value ID        CVE Name        CWE  \\\n",
      "0  org.keycloak:keycloak-core:3.4.1.Final:CVE  CVE-2019-10170  [CWE-267]   \n",
      "\n",
      "  Severity  \n",
      "0     HIGH  \n"
     ]
    }
   ],
   "source": [
    "cve_node = \"\"\"\n",
    "MATCH (a:Artifact)-[rel]-(r:Release)-[rel2]-(av:AddedValue)\n",
    "WHERE av.type='CVE' AND av.value CONTAINS 'CVE-'\n",
    "RETURN a.id AS artifact_id, r.id AS release_id, av.id AS added_value_id, av.value AS cve_value\n",
    "LIMIT 1\n",
    "\"\"\"\n",
    "\n",
    "results = execute_query(cve_node)\n",
    "\n",
    "# Process the results\n",
    "data = []\n",
    "for record in results:\n",
    "    cve_value = record['cve_value']\n",
    "\n",
    "    try:\n",
    "        # Clean the JSON string before parsing\n",
    "        cleaned_cve_value = clean_json_string(cve_value)\n",
    "        \n",
    "        # Attempt to parse the cleaned cve_value JSON string\n",
    "        cve_data = json.loads(cleaned_cve_value)\n",
    "\n",
    "        # Extract relevant information from the cve_data (if available)\n",
    "        cve_entry = cve_data.get(\"cve\", [])[0]  # Assuming we are interested in the first CVE entry\n",
    "        cwe = cve_entry.get('cwe', 'N/A')       # Extract CWE\n",
    "        severity = cve_entry.get('severity', 'N/A')  # Extract severity\n",
    "        cve_name = cve_entry.get('name', 'N/A')  # Extract CVE name\n",
    "\n",
    "    except (json.JSONDecodeError, IndexError, KeyError) as e:\n",
    "        # Handle and log JSON parsing errors or missing fields\n",
    "        print(f\"Error parsing JSON for record: {cve_value}, Error: {e}\")\n",
    "        cwe = 'N/A'\n",
    "        severity = 'N/A'\n",
    "        cve_name = 'N/A'\n",
    "\n",
    "    # Append the processed data to the list\n",
    "    data.append({\n",
    "        'Artifact ID': record['artifact_id'],\n",
    "        'Release ID': record['release_id'],\n",
    "        'Added Value ID': record['added_value_id'],\n",
    "        'CVE Name': cve_name,\n",
    "        'CWE': cwe,\n",
    "        'Severity': severity\n",
    "    })\n",
    "\n",
    "# Create a pandas DataFrame\n",
    "df = pd.DataFrame(data)\n",
    "\n",
    "# Display the DataFrame\n",
    "print(df)\n",
    "\n",
    "    "
   ]
  },
  {
   "cell_type": "markdown",
   "id": "aeaf7cd7-0d92-4ee0-b623-2bead9f9a7e6",
   "metadata": {},
   "source": [
    "# Risk Metrics"
   ]
  },
  {
   "cell_type": "markdown",
   "id": "6842992c-881c-451c-a0a7-c521b0804c24",
   "metadata": {},
   "source": [
    "## CVE"
   ]
  },
  {
   "cell_type": "markdown",
   "id": "9d5ee28d-c6f3-4c4d-8bd4-661450f731a3",
   "metadata": {},
   "source": [
    "Total number of known vulnerabilities associated with the artifacts in each cluster. This is a direct measure of potential security risks.  \n",
    "* Identify the artifacts and their releases in each cluster\n",
    "* Cross-reference these artifacts with a CVE database.\n",
    "* Sum the CVEs for each cluster"
   ]
  },
  {
   "cell_type": "markdown",
   "id": "a78aa953-50b0-4e1e-b025-6a7cae79ea0e",
   "metadata": {},
   "source": [
    "### Retrieve CVE Data for All Relevant Artifacts"
   ]
  },
  {
   "cell_type": "code",
   "execution_count": 155,
   "id": "27b64c90-dc2f-4b73-a8c2-61ce69bfcfa7",
   "metadata": {
    "scrolled": true,
    "tags": []
   },
   "outputs": [],
   "source": [
    "cve_node_query = \"\"\"\n",
    "MATCH (a:Artifact)-[rel]->(r:Release)-[rel2]->(av:AddedValue)\n",
    "WHERE av.type = 'CVE' AND av.value CONTAINS 'CVE-'\n",
    "RETURN a.id AS artifact_id, r.id AS release_id, av.id AS added_value_id, av.value AS cve_value, a.communityId AS communityId\n",
    "\"\"\"\n",
    "\n",
    "results = execute_query(cve_node_query)\n"
   ]
  },
  {
   "cell_type": "markdown",
   "id": "f817e81b-745d-4d1d-b3ef-c85ec4986f0e",
   "metadata": {},
   "source": [
    "### Clean and Parse JSON"
   ]
  },
  {
   "cell_type": "code",
   "execution_count": 157,
   "id": "a9854fdb-05a1-4232-9863-bc2381038a9e",
   "metadata": {},
   "outputs": [],
   "source": [
    "def clean_json_string(json_str):\n",
    "    # Remove any unwanted characters or patterns\n",
    "    cleaned_str = json_str.replace('\\\\', '')\n",
    "    cleaned_str = re.sub(r'\"\\s*{\\s*\"', '{\"', cleaned_str)\n",
    "    cleaned_str = re.sub(r'\"\\s*}\\s*\"', '\"}', cleaned_str)\n",
    "    return cleaned_str"
   ]
  },
  {
   "cell_type": "code",
   "execution_count": 160,
   "id": "b99d29af-8483-47de-9030-59532e7ef75c",
   "metadata": {},
   "outputs": [],
   "source": [
    "data = []\n",
    "for record in results:\n",
    "    cve_value = record['cve_value']\n",
    "\n",
    "    try:\n",
    "        # Clean and parse the JSON string\n",
    "        cleaned_cve_value = clean_json_string(cve_value)\n",
    "        cve_data = json.loads(cleaned_cve_value)\n",
    "\n",
    "        # Extract relevant information from the cve_data\n",
    "        cve_entries = cve_data.get(\"cve\", [])\n",
    "        for cve_entry in cve_entries:\n",
    "            cwe = cve_entry.get('cwe', 'N/A')\n",
    "            severity = cve_entry.get('severity', 'N/A')\n",
    "            cve_name = cve_entry.get('name', 'N/A')\n",
    "\n",
    "            # Append the processed data to the list\n",
    "            data.append({\n",
    "                'Artifact ID': record['artifact_id'],\n",
    "                'Release ID': record['release_id'],\n",
    "                'Added Value ID': record['added_value_id'],\n",
    "                'CVE Name': cve_name,\n",
    "                'CWE': cwe,\n",
    "                'Severity': severity,\n",
    "                'Community ID': record['communityId']\n",
    "            })\n",
    "\n",
    "    except (json.JSONDecodeError, IndexError, KeyError, TypeError) as e:\n",
    "        # Handle and log JSON parsing errors or missing fields\n",
    "        print(f\"Error parsing JSON for record: {cve_value}, Error: {e}\")\n",
    "        # Optionally, append incomplete data or skip\n",
    "        continue\n",
    "\n",
    "# Create a pandas DataFrame\n",
    "df = pd.DataFrame(data)\n",
    "\n",
    "# Export\n",
    "df.to_csv('CVE_data.csv', index=False)"
   ]
  },
  {
   "cell_type": "code",
   "execution_count": 162,
   "id": "3b7b1518-0ef6-44a5-b6c6-1613a0470a8f",
   "metadata": {},
   "outputs": [
    {
     "name": "stdout",
     "output_type": "stream",
     "text": [
      "                  Artifact ID                              Release ID  \\\n",
      "0  org.keycloak:keycloak-core  org.keycloak:keycloak-core:3.4.1.Final   \n",
      "1  org.keycloak:keycloak-core  org.keycloak:keycloak-core:3.4.1.Final   \n",
      "2  org.keycloak:keycloak-core  org.keycloak:keycloak-core:3.4.1.Final   \n",
      "3  org.keycloak:keycloak-core  org.keycloak:keycloak-core:3.4.1.Final   \n",
      "4  org.keycloak:keycloak-core  org.keycloak:keycloak-core:3.4.1.Final   \n",
      "\n",
      "                               Added Value ID        CVE Name  \\\n",
      "0  org.keycloak:keycloak-core:3.4.1.Final:CVE  CVE-2019-10170   \n",
      "1  org.keycloak:keycloak-core:3.4.1.Final:CVE   CVE-2022-0225   \n",
      "2  org.keycloak:keycloak-core:3.4.1.Final:CVE   CVE-2020-1697   \n",
      "3  org.keycloak:keycloak-core:3.4.1.Final:CVE  CVE-2019-14837   \n",
      "4  org.keycloak:keycloak-core:3.4.1.Final:CVE  CVE-2021-20262   \n",
      "\n",
      "                 CWE  Severity  Community ID  \n",
      "0          [CWE-267]      HIGH         10471  \n",
      "1           [CWE-79]  MODERATE         10471  \n",
      "2           [CWE-79]  MODERATE         10471  \n",
      "3  [CWE-547,CWE-798]  CRITICAL         10471  \n",
      "4          [CWE-306]  MODERATE         10471  \n"
     ]
    }
   ],
   "source": [
    "print(df.head(5))"
   ]
  },
  {
   "cell_type": "markdown",
   "id": "846b6e71-070b-4578-806f-75d48b22ffa7",
   "metadata": {},
   "source": [
    "### Associate CVE Data with Clusters"
   ]
  },
  {
   "cell_type": "code",
   "execution_count": 168,
   "id": "d4840a19-00e4-4505-97e1-24cfc346fa4c",
   "metadata": {},
   "outputs": [
    {
     "name": "stdout",
     "output_type": "stream",
     "text": [
      "CVE Data per Cluster:\n",
      "   Community ID  Total CVEs  \\\n",
      "0           436         121   \n",
      "1           657         401   \n",
      "2          1434          10   \n",
      "3          2682          28   \n",
      "4          2702          30   \n",
      "\n",
      "                                            CVE List  Num_Releases  \n",
      "0  [CVE-2022-25873, CVE-2022-25873, CVE-2022-2587...           121  \n",
      "1  [CVE-2021-32013, CVE-2021-32012, CVE-2021-3201...           171  \n",
      "2  [CVE-2017-3200, CVE-2017-3200, CVE-2017-3200, ...            10  \n",
      "3  [CVE-2016-9177, CVE-2018-9159, CVE-2016-9177, ...            18  \n",
      "4  [CVE-2023-33546, CVE-2023-33546, CVE-2023-3354...            30  \n"
     ]
    }
   ],
   "source": [
    "# Group the CVE data by 'Community ID'\n",
    "cve_by_cluster = df.groupby('Community ID')\n",
    "\n",
    "# Calculate the total number of CVEs per cluster\n",
    "total_cves_per_cluster = cve_by_cluster['CVE Name'].count().reset_index()\n",
    "total_cves_per_cluster = total_cves_per_cluster.rename(columns={'CVE Name': 'Total CVEs'})\n",
    "\n",
    "# Calculate the total number of unique releases per cluster as this is what the CVE is tied to.\n",
    "num_artifacts_per_cluster = df.groupby('Community ID')['Release ID'].nunique().reset_index()\n",
    "num_artifacts_per_cluster = num_artifacts_per_cluster.rename(columns={'Release ID': 'Num_Releases'})\n",
    "\n",
    "# List all CVEs per cluster\n",
    "cves_list_per_cluster = cve_by_cluster['CVE Name'].apply(list).reset_index()\n",
    "cves_list_per_cluster = cves_list_per_cluster.rename(columns={'CVE Name': 'CVE List'})\n",
    "\n",
    "# Merge the total CVEs, CVE lists, and number of artifacts\n",
    "cluster_cve_data = pd.merge(total_cves_per_cluster, cves_list_per_cluster, on='Community ID')\n",
    "cluster_cve_data = pd.merge(cluster_cve_data, num_artifacts_per_cluster, on='Community ID')\n",
    "\n",
    "# Export\n",
    "cluster_cve_data.to_csv('cluster_cve_data.csv', index=False)\n",
    "\n",
    "# Display the merged data\n",
    "print(\"CVE Data per Cluster:\")\n",
    "print(cluster_cve_data.head())\n",
    "\n"
   ]
  },
  {
   "cell_type": "markdown",
   "id": "bbf939d8-909e-4152-ac65-e42088fb2648",
   "metadata": {},
   "source": [
    "### Calculate CVE Metrics per Cluster"
   ]
  },
  {
   "cell_type": "markdown",
   "id": "5022274b-dda7-426c-8d15-45aa5983039c",
   "metadata": {},
   "source": [
    "**Verify Severity Scores Exist**"
   ]
  },
  {
   "cell_type": "code",
   "execution_count": 172,
   "id": "fedb02f7-7c21-460c-83df-f9861b8423dc",
   "metadata": {},
   "outputs": [
    {
     "name": "stdout",
     "output_type": "stream",
     "text": [
      "Different Severity Levels Present in the Data:\n",
      "['HIGH' 'MODERATE' 'CRITICAL' 'LOW' 'UNKNOWN']\n"
     ]
    }
   ],
   "source": [
    "severity_levels = df['Severity'].unique()\n",
    "\n",
    "print(\"Different Severity Levels Present in the Data:\")\n",
    "print(severity_levels)"
   ]
  },
  {
   "cell_type": "markdown",
   "id": "c502ceef-a9cd-4c12-b01b-036e8982623b",
   "metadata": {},
   "source": [
    "**Convert Severity Levels to Numerical Scores**"
   ]
  },
  {
   "cell_type": "code",
   "execution_count": 175,
   "id": "e9186ab4-d251-4d90-87ad-150d1c005ab8",
   "metadata": {},
   "outputs": [],
   "source": [
    "severity_mapping = {\n",
    "    'LOW': 1,\n",
    "    'MODERATE': 2,\n",
    "    'HIGH': 3,\n",
    "    'CRITICAL': 4,\n",
    "    'UNKNOWN': 0\n",
    "}\n",
    "\n",
    "# Map the severity levels to numerical scores\n",
    "df['Severity Score'] = df['Severity'].map(severity_mapping)\n"
   ]
  },
  {
   "cell_type": "markdown",
   "id": "cd4b1295-8d02-4d31-ab09-18ea6df27c64",
   "metadata": {},
   "source": [
    "**Handle Missing Severity Scores**"
   ]
  },
  {
   "cell_type": "code",
   "execution_count": 178,
   "id": "cdd4f2ee-e612-4282-a68c-2504081d7941",
   "metadata": {},
   "outputs": [],
   "source": [
    "# Replace any missing severity scores with 0 or an appropriate default\n",
    "df['Severity Score'] = df['Severity Score'].fillna(0)\n"
   ]
  },
  {
   "cell_type": "markdown",
   "id": "cabed493-d657-43c5-8e6e-2d225f095fd4",
   "metadata": {},
   "source": [
    "**Calculate Average Severity per Cluster**"
   ]
  },
  {
   "cell_type": "code",
   "execution_count": 194,
   "id": "3a494a3d-ef27-4d1e-903b-436d46fb7a58",
   "metadata": {},
   "outputs": [
    {
     "name": "stdout",
     "output_type": "stream",
     "text": [
      "Updated Cluster CVE Data with Average Severity Score:\n",
      "   Community ID  Total CVEs  \\\n",
      "0           436         121   \n",
      "1           657         401   \n",
      "2          1434          10   \n",
      "3          2682          28   \n",
      "4          2702          30   \n",
      "\n",
      "                                            CVE List  Num_Releases  \\\n",
      "0  [CVE-2022-25873, CVE-2022-25873, CVE-2022-2587...           121   \n",
      "1  [CVE-2021-32013, CVE-2021-32012, CVE-2021-3201...           171   \n",
      "2  [CVE-2017-3200, CVE-2017-3200, CVE-2017-3200, ...            10   \n",
      "3  [CVE-2016-9177, CVE-2018-9159, CVE-2016-9177, ...            18   \n",
      "4  [CVE-2023-33546, CVE-2023-33546, CVE-2023-3354...            30   \n",
      "\n",
      "   Average Severity Score  \n",
      "0                2.000000  \n",
      "1                2.349127  \n",
      "2                3.000000  \n",
      "3                2.357143  \n",
      "4                2.000000  \n"
     ]
    }
   ],
   "source": [
    "# Calculate the average severity score per cluster\n",
    "average_severity_score_per_cluster = df.groupby('Community ID')['Severity Score'].mean().reset_index()\n",
    "average_severity_score_per_cluster = average_severity_score_per_cluster.rename(columns={'Severity Score': 'Average Severity Score'})\n",
    "\n",
    "# Merge the average severity score into the existing cluster_cve_data DataFrame\n",
    "cluster_cve_data = pd.merge(cluster_cve_data, average_severity_score_per_cluster, on='Community ID', how='left')\n",
    "\n",
    "# Export the updated DataFrame to a CSV file\n",
    "cluster_cve_data.to_csv('cluster_cve_data.csv', index=False)\n",
    "\n",
    "# Display the updated DataFrame\n",
    "print(\"Updated Cluster CVE Data with Average Severity Score:\")\n",
    "print(cluster_cve_data.head())\n",
    "\n"
   ]
  },
  {
   "cell_type": "markdown",
   "id": "bb5ffb66-3f87-4971-b600-e3ecc3cc2799",
   "metadata": {},
   "source": [
    "**Normalize the Total CVEs**  \n",
    "Number of CVEs per release (on average) per cluster"
   ]
  },
  {
   "cell_type": "code",
   "execution_count": 203,
   "id": "2327f748-b69e-407c-92a5-d942d096da4a",
   "metadata": {},
   "outputs": [],
   "source": [
    "# Add the normalized Total CVEs as a new column\n",
    "cluster_cve_data['Normalized Total CVEs'] = (\n",
    "    cluster_cve_data['Total CVEs'] / cluster_cve_data['Num_Releases']\n",
    ")\n",
    "\n",
    "# Export the updated DataFrame to a CSV file\n",
    "cluster_cve_data.to_csv('cluster_cve_data.csv', index=False)\n",
    "\n"
   ]
  },
  {
   "cell_type": "markdown",
   "id": "f7059f03-bac8-4bf2-a894-eab465a297f5",
   "metadata": {},
   "source": [
    "**Display the Metrics**"
   ]
  },
  {
   "cell_type": "code",
   "execution_count": 206,
   "id": "48b97ea4-a2ba-40a9-9b45-0b02ea207c69",
   "metadata": {},
   "outputs": [
    {
     "name": "stdout",
     "output_type": "stream",
     "text": [
      "     Community ID  Total CVEs  \\\n",
      "75          36717           6   \n",
      "79          39037           4   \n",
      "25          11504          53   \n",
      "59          30752           6   \n",
      "121         57273           4   \n",
      "127         61493          15   \n",
      "101         50022           9   \n",
      "50          27120           3   \n",
      "97          46633           8   \n",
      "81          39418          31   \n",
      "135         65986           5   \n",
      "87          41352           3   \n",
      "122         58239          11   \n",
      "54          28969        2270   \n",
      "34          16657         107   \n",
      "136         66039           5   \n",
      "82          39655         998   \n",
      "130         62299          27   \n",
      "118         56718           4   \n",
      "112         53957          45   \n",
      "\n",
      "                                              CVE List  Num_Releases  \\\n",
      "75   [CVE-2020-17531, CVE-2020-17531, CVE-2020-1753...             6   \n",
      "79   [CVE-2023-51084, CVE-2023-51084, CVE-2023-5108...             4   \n",
      "25   [CVE-2023-27162, CVE-2023-27162, CVE-2023-2716...            53   \n",
      "59   [CVE-2021-43090, CVE-2021-43090, CVE-2021-4309...             6   \n",
      "121  [CVE-2016-11023, CVE-2016-11024, CVE-2016-1102...             2   \n",
      "127  [CVE-2019-19899, CVE-2019-19899, CVE-2019-1989...            15   \n",
      "101  [CVE-2017-12620, CVE-2017-12620, CVE-2017-1262...             9   \n",
      "50       [CVE-2015-7501, CVE-2015-7501, CVE-2015-7501]             3   \n",
      "97   [CVE-2014-3579, CVE-2014-3579, CVE-2014-3579, ...             8   \n",
      "81   [CVE-2016-5019, CVE-2016-5019, CVE-2016-5019, ...            31   \n",
      "135  [CVE-2021-23369, CVE-2021-23369, CVE-2021-2336...             5   \n",
      "87   [CVE-2018-1000836, CVE-2018-1000836, CVE-2018-...             3   \n",
      "122  [CVE-2023-0869, CVE-2018-1000823, CVE-2018-100...            11   \n",
      "54   [CVE-2019-5312, CVE-2019-5312, CVE-2019-5312, ...          1341   \n",
      "34   [CVE-2021-39239, CVE-2021-39239, CVE-2021-3923...           107   \n",
      "136  [CVE-2022-23302, CVE-2021-4104, CVE-2019-17571...             1   \n",
      "82   [CVE-2024-25603, CVE-2024-25601, CVE-2024-2514...           252   \n",
      "130  [CVE-2022-26112, CVE-2022-23974, CVE-2022-2611...            14   \n",
      "118  [CVE-2021-44585, CVE-2021-46089, CVE-2022-2288...             1   \n",
      "112  [CVE-2021-38555, CVE-2022-25312, CVE-2023-3415...            13   \n",
      "\n",
      "     Average Severity Score  Normalized Total CVEs  \n",
      "75                 4.000000               1.000000  \n",
      "79                 4.000000               1.000000  \n",
      "25                 4.000000               1.000000  \n",
      "59                 4.000000               1.000000  \n",
      "121                4.000000               2.000000  \n",
      "127                4.000000               1.000000  \n",
      "101                4.000000               1.000000  \n",
      "50                 4.000000               1.000000  \n",
      "97                 4.000000               1.000000  \n",
      "81                 4.000000               1.000000  \n",
      "135                4.000000               1.000000  \n",
      "87                 4.000000               1.000000  \n",
      "122                3.818182               1.000000  \n",
      "54                 3.691189               1.692767  \n",
      "34                 3.663551               1.000000  \n",
      "136                3.600000               5.000000  \n",
      "82                 3.596192               3.960317  \n",
      "130                3.518519               1.928571  \n",
      "118                3.500000               4.000000  \n",
      "112                3.422222               3.461538  \n"
     ]
    }
   ],
   "source": [
    "print(cluster_cve_data.sort_values(by='Average Severity Score', ascending=False).head(20))\n"
   ]
  },
  {
   "cell_type": "code",
   "execution_count": 208,
   "id": "7d47e984-eaba-463b-a398-cbc7e79a536c",
   "metadata": {},
   "outputs": [
    {
     "name": "stdout",
     "output_type": "stream",
     "text": [
      "Number of CVEs per Severity Level:\n",
      "Severity\n",
      "HIGH        67235\n",
      "MODERATE    61643\n",
      "CRITICAL    32304\n",
      "LOW          8008\n",
      "UNKNOWN         3\n",
      "Name: count, dtype: int64\n"
     ]
    }
   ],
   "source": [
    "# Count the number of CVEs per severity level\n",
    "severity_counts = df['Severity'].value_counts()\n",
    "\n",
    "print(\"Number of CVEs per Severity Level:\")\n",
    "print(severity_counts)"
   ]
  },
  {
   "cell_type": "markdown",
   "id": "3a4619bf-9e29-4d09-bbcf-ad6d14f848ed",
   "metadata": {},
   "source": [
    "**Visualizing Severity Distributions**"
   ]
  },
  {
   "cell_type": "code",
   "execution_count": 211,
   "id": "dfc3c5f0-8bce-45f3-aee9-e95b2c6c137e",
   "metadata": {},
   "outputs": [
    {
     "data": {
      "image/png": "[encoded data removed]",
      "text/plain": [
       "<Figure size 400x300 with 1 Axes>"
      ]
     },
     "metadata": {},
     "output_type": "display_data"
    }
   ],
   "source": [
    "# Plot the number of CVEs per severity level\n",
    "plt.figure(figsize=(4, 3))\n",
    "severity_counts.plot(kind='bar', color='skyblue')\n",
    "plt.xlabel('Severity Level')\n",
    "plt.ylabel('Number of CVEs')\n",
    "plt.title('Distribution of CVEs by Severity Level')\n",
    "plt.xticks(rotation=45)\n",
    "plt.tight_layout()\n",
    "\n",
    "# Export Plot\n",
    "plt.savefig('cve_severity_distribution.pdf', bbox_inches='tight')\n",
    "\n",
    "# Display\n",
    "plt.show()"
   ]
  },
  {
   "cell_type": "markdown",
   "id": "84bf5b3c-d749-4eb5-a8c2-59d17752e51d",
   "metadata": {},
   "source": [
    "**Create Cluster_Risk_Metrics External File**"
   ]
  },
  {
   "cell_type": "code",
   "execution_count": 213,
   "id": "04f5b61b-b37e-4b38-a83c-107e19cd7133",
   "metadata": {},
   "outputs": [],
   "source": [
    "cluster_risk_metrics = cluster_cve_data"
   ]
  },
  {
   "cell_type": "code",
   "execution_count": 215,
   "id": "78ba843d-9868-4bb1-95b7-0c73411c24d7",
   "metadata": {},
   "outputs": [
    {
     "name": "stdout",
     "output_type": "stream",
     "text": [
      "Data saved to 'cluster_cve_metrics.pkl'\n"
     ]
    }
   ],
   "source": [
    "# Save the DataFrame to a Pickle file (more efficient for large data)\n",
    "cluster_risk_metrics.to_pickle('cluster_cve_metrics.pkl')\n",
    "print(\"Data saved to 'cluster_cve_metrics.pkl'\")"
   ]
  },
  {
   "cell_type": "markdown",
   "id": "d9e250dd-6689-4cb5-a7cb-a0ebaae0d523",
   "metadata": {},
   "source": [
    "**Load pickle file for verification**"
   ]
  },
  {
   "cell_type": "code",
   "execution_count": 218,
   "id": "4980b3d0-b2a5-4843-860f-70b370cb749d",
   "metadata": {},
   "outputs": [
    {
     "name": "stdout",
     "output_type": "stream",
     "text": [
      "DataFrame loaded from 'cluster_cve_metrics.pkl'\n",
      "   Community ID  Total CVEs  \\\n",
      "0           436         121   \n",
      "1           657         401   \n",
      "2          1434          10   \n",
      "3          2682          28   \n",
      "4          2702          30   \n",
      "\n",
      "                                            CVE List  Num_Releases  \\\n",
      "0  [CVE-2022-25873, CVE-2022-25873, CVE-2022-2587...           121   \n",
      "1  [CVE-2021-32013, CVE-2021-32012, CVE-2021-3201...           171   \n",
      "2  [CVE-2017-3200, CVE-2017-3200, CVE-2017-3200, ...            10   \n",
      "3  [CVE-2016-9177, CVE-2018-9159, CVE-2016-9177, ...            18   \n",
      "4  [CVE-2023-33546, CVE-2023-33546, CVE-2023-3354...            30   \n",
      "\n",
      "   Average Severity Score  Normalized Total CVEs  \n",
      "0                2.000000               1.000000  \n",
      "1                2.349127               2.345029  \n",
      "2                3.000000               1.000000  \n",
      "3                2.357143               1.555556  \n",
      "4                2.000000               1.000000  \n"
     ]
    }
   ],
   "source": [
    "# Load the DataFrame from the pickle file\n",
    "cluster_risk_metrics = pd.read_pickle('cluster_cve_metrics.pkl')\n",
    "\n",
    "print(\"DataFrame loaded from 'cluster_cve_metrics.pkl'\")\n",
    "\n",
    "# Print the first few lines of the DataFrame\n",
    "print(cluster_risk_metrics.head())"
   ]
  },
  {
   "cell_type": "code",
   "execution_count": 220,
   "id": "f31526c1-eb10-418c-83e2-07d70907ca2e",
   "metadata": {},
   "outputs": [
    {
     "name": "stdout",
     "output_type": "stream",
     "text": [
      "The DataFrame has 139 rows and 6 columns.\n"
     ]
    }
   ],
   "source": [
    "# Assuming 'df' is your DataFrame\n",
    "num_rows = cluster_risk_metrics.shape[0]\n",
    "num_cols = cluster_risk_metrics.shape[1]\n",
    "print(f\"The DataFrame has {num_rows} rows and {num_cols} columns.\")\n"
   ]
  },
  {
   "cell_type": "markdown",
   "id": "116a0aa6-f5d2-4b93-8fb2-7853b8eae1be",
   "metadata": {},
   "source": [
    "## UPDATE"
   ]
  },
  {
   "cell_type": "markdown",
   "id": "d59a8386-eff7-4c33-ba9c-889e2e9f1b48",
   "metadata": {},
   "source": [
    "**Get total Artifact Records**"
   ]
  },
  {
   "cell_type": "code",
   "execution_count": 106,
   "id": "907c70bf-a1e1-4286-9641-ecb048809bb8",
   "metadata": {},
   "outputs": [
    {
     "name": "stdout",
     "output_type": "stream",
     "text": [
      "Total artifact records: 658078\n"
     ]
    }
   ],
   "source": [
    "def get_total_update_artifact_records():\n",
    "    query = \"\"\"\n",
    "    MATCH (a:Artifact)\n",
    "    RETURN count(a) AS total_records\n",
    "    \"\"\"\n",
    "    result = execute_query(query)\n",
    "    return result[0]['total_records']\n",
    "\n",
    "total_records = get_total_update_artifact_records()\n",
    "print(f\"Total artifact records: {total_records}\")"
   ]
  },
  {
   "cell_type": "code",
   "execution_count": 108,
   "id": "8b3a349f-5216-486d-8871-76e1ee2d2c53",
   "metadata": {},
   "outputs": [],
   "source": [
    "def get_artifact_update_data_batch(skip, limit):\n",
    "    query = f\"\"\"\n",
    "    MATCH (a:Artifact)-[:relationship_AR]->(r:Release)\n",
    "    WITH a, max(r.timestamp) AS last_update_timestamp\n",
    "    RETURN a.id AS artifact_id, a.communityId AS community_id, last_update_timestamp\n",
    "    SKIP {skip}\n",
    "    LIMIT {limit}\n",
    "    \"\"\"\n",
    "    results = execute_query(query)\n",
    "    return pd.DataFrame(results)\n"
   ]
  },
  {
   "cell_type": "markdown",
   "id": "e8d3ff7d-aaad-444c-81b9-25b6eee0d6a3",
   "metadata": {},
   "source": [
    "**Get Data In Batches**"
   ]
  },
  {
   "cell_type": "code",
   "execution_count": 111,
   "id": "56a314f3-eb19-4b01-b4a8-ef48faf70fb3",
   "metadata": {},
   "outputs": [
    {
     "name": "stdout",
     "output_type": "stream",
     "text": [
      "Processing records 0 to 99999\n",
      "Processing records 100000 to 199999\n",
      "Processing records 200000 to 299999\n",
      "Processing records 300000 to 399999\n",
      "Processing records 400000 to 499999\n",
      "Processing records 500000 to 599999\n",
      "Processing records 600000 to 658077\n"
     ]
    }
   ],
   "source": [
    "batch_size = 100000  # Adjust as needed\n",
    "processed_batches = []\n",
    "for skip in range(0, total_records, batch_size):\n",
    "    print(f\"Processing records {skip} to {min(skip + batch_size - 1, total_records - 1)}\")\n",
    "    # Fetch the batch\n",
    "    batch_df = get_artifact_update_data_batch(skip, batch_size)\n",
    "\n",
    "    if batch_df.empty:\n",
    "        continue\n",
    "\n",
    "    # Convert 'last_update_timestamp' to datetime\n",
    "    batch_df['Last Update Date'] = pd.to_datetime(batch_df['last_update_timestamp'], unit='ms')\n",
    "\n",
    "    # Calculate 'Days Since Last Update'\n",
    "    current_date = datetime.now()\n",
    "    batch_df['Days Since Last Update'] = (current_date - batch_df['Last Update Date']).dt.days\n",
    "\n",
    "    # Append to the list of processed batches\n",
    "    processed_batches.append(batch_df[['artifact_id', 'community_id', 'Days Since Last Update']])\n"
   ]
  },
  {
   "cell_type": "markdown",
   "id": "3bcc0da3-fb41-4db4-9d8c-3351ad0f6a3e",
   "metadata": {},
   "source": [
    "**Combine Batches into Single DataFrame**"
   ]
  },
  {
   "cell_type": "code",
   "execution_count": 116,
   "id": "e1c94c87-e1ba-48f6-96b7-e6a683a97494",
   "metadata": {},
   "outputs": [],
   "source": [
    "# Combine batches into a single DataFrame\n",
    "release_df = pd.concat(processed_batches, ignore_index=True)\n",
    "\n",
    "# Export\n",
    "release_df.to_csv('Update_data.csv', index=False)"
   ]
  },
  {
   "cell_type": "markdown",
   "id": "b2808ec9-ae54-4f46-ad83-6845cfab67a3",
   "metadata": {},
   "source": [
    "**Aggregate data per cluster (Community ID)**"
   ]
  },
  {
   "cell_type": "code",
   "execution_count": 119,
   "id": "7dd1d866-e5fe-4a52-bcad-364f7d169924",
   "metadata": {},
   "outputs": [],
   "source": [
    "cluster_update_metrics = release_df.groupby('community_id').agg({\n",
    "    'Days Since Last Update': 'mean'\n",
    "}).reset_index()"
   ]
  },
  {
   "cell_type": "markdown",
   "id": "48289ed6-5fd2-4006-b78a-6b270e2da3fc",
   "metadata": {},
   "source": [
    "**Rename Columns for Clarity**"
   ]
  },
  {
   "cell_type": "code",
   "execution_count": 122,
   "id": "9dbcaaa9-a085-41e5-80a1-99891f809a23",
   "metadata": {},
   "outputs": [],
   "source": [
    "# Rename columns for clarity\n",
    "cluster_update_metrics = cluster_update_metrics.rename(columns={\n",
    "    'community_id': 'Community ID',\n",
    "    'Days Since Last Update': 'Average Days Since Last Update'\n",
    "})"
   ]
  },
  {
   "cell_type": "markdown",
   "id": "d225a35f-7516-4ff7-9681-38ac3c5c7afd",
   "metadata": {},
   "source": [
    "**Display Top Clusters**"
   ]
  },
  {
   "cell_type": "code",
   "execution_count": 125,
   "id": "f46cc40b-d5df-4e2f-9565-badf0b58035c",
   "metadata": {},
   "outputs": [
    {
     "name": "stdout",
     "output_type": "stream",
     "text": [
      "       Community ID  Average Days Since Last Update\n",
      "64178         64216                          7559.0\n",
      "13969         13973                          7234.0\n",
      "40951         40974                          7234.0\n",
      "59586         59624                          7168.0\n",
      "27326         27338                          7168.0\n",
      "28401         28415                          7168.0\n",
      "60156         60194                          7168.0\n",
      "54252         54287                          7145.0\n",
      "50636         50669                          7145.0\n",
      "54684         54719                          7145.0\n"
     ]
    }
   ],
   "source": [
    "# Display the top clusters with the highest average days since last update\n",
    "print(cluster_update_metrics.sort_values(by='Average Days Since Last Update', ascending=False).head(10))\n"
   ]
  },
  {
   "cell_type": "markdown",
   "id": "b1034f29-6583-4602-9189-c660b7cf9d99",
   "metadata": {},
   "source": [
    "**Save to External File**"
   ]
  },
  {
   "cell_type": "code",
   "execution_count": 127,
   "id": "aec58a42-cb34-40b5-8b73-f45e0e6115a5",
   "metadata": {},
   "outputs": [
    {
     "name": "stdout",
     "output_type": "stream",
     "text": [
      "Data saved to 'cluster_update_metrics.pkl'\n"
     ]
    }
   ],
   "source": [
    "cluster_update_metrics.to_csv('cluster_update_data.csv', index=False)\n",
    "\n",
    "cluster_update_metrics.to_pickle('cluster_update_metrics.pkl')\n",
    "print(\"Data saved to 'cluster_update_metrics.pkl'\")\n"
   ]
  },
  {
   "cell_type": "markdown",
   "id": "96e2fc36-cf92-4280-989c-80be93b8e896",
   "metadata": {},
   "source": [
    "**Load External File For Testing**"
   ]
  },
  {
   "cell_type": "code",
   "execution_count": 131,
   "id": "237500fd-1551-4c52-bbad-cd66c9cca7bc",
   "metadata": {},
   "outputs": [
    {
     "name": "stdout",
     "output_type": "stream",
     "text": [
      "DataFrame loaded from 'cluster_update_metrics.pkl'\n",
      "   Community ID  Average Days Since Last Update\n",
      "0             0                          3212.0\n",
      "1             1                           838.0\n",
      "2             2                           492.0\n",
      "3             3                          2346.0\n",
      "4             4                           438.0\n"
     ]
    }
   ],
   "source": [
    "# Load the DataFrame from the pickle file\n",
    "cluster_update_metrics = pd.read_pickle('cluster_update_metrics.pkl')\n",
    "\n",
    "print(\"DataFrame loaded from 'cluster_update_metrics.pkl'\")\n",
    "\n",
    "# Print the first few lines of the DataFrame\n",
    "print(cluster_update_metrics.head())"
   ]
  },
  {
   "cell_type": "markdown",
   "id": "2106701b-9aea-41cf-8798-41d6fa4d0cbc",
   "metadata": {},
   "source": [
    "## FRESHNESS"
   ]
  },
  {
   "cell_type": "markdown",
   "id": "bbfe7dbe-e534-4ec5-a04f-78208d83c1f4",
   "metadata": {},
   "source": [
    "### Retrieve Freshness Data"
   ]
  },
  {
   "cell_type": "markdown",
   "id": "696268fa-10df-4662-8942-3887a3961f48",
   "metadata": {},
   "source": [
    "**Find number of Nodes**"
   ]
  },
  {
   "cell_type": "code",
   "execution_count": 16,
   "id": "c4c87f61-469a-4047-9e6a-43b695bac034",
   "metadata": {},
   "outputs": [
    {
     "name": "stdout",
     "output_type": "stream",
     "text": [
      "Total FRESHNESS records: 14459139\n"
     ]
    }
   ],
   "source": [
    "# Query to count the total number of records\n",
    "def get_total_freshness_records():\n",
    "    query = \"\"\"\n",
    "    MATCH (a:Artifact)-[rel]->(r:Release)-[rel2]->(av:AddedValue)\n",
    "    WHERE av.type = 'FRESHNESS'\n",
    "    RETURN count(*) AS total_records\n",
    "    \"\"\"\n",
    "    result = execute_query(query)\n",
    "    return result[0]['total_records']\n",
    "\n",
    "total_records = get_total_freshness_records()\n",
    "print(f\"Total FRESHNESS records: {total_records}\")\n"
   ]
  },
  {
   "cell_type": "markdown",
   "id": "59122de2-5c9e-43a1-936f-b272fc1ffb41",
   "metadata": {},
   "source": [
    "**Get one result to verify filetype**"
   ]
  },
  {
   "cell_type": "code",
   "execution_count": 19,
   "id": "ac68fbea-e776-4bb7-bed9-d7af39bfedd4",
   "metadata": {},
   "outputs": [
    {
     "name": "stdout",
     "output_type": "stream",
     "text": [
      "                                     artifact_id  community_id  \\\n",
      "0  com.softwaremill.sttp.client:core_sjs0.6_2.13         26959   \n",
      "\n",
      "                                               VALUE  \n",
      "0  {\\\"freshness\\\":{\\\"numberMissedRelease\\\":\\\"7\\\",...  \n"
     ]
    }
   ],
   "source": [
    "query = f\"\"\"\n",
    "MATCH (a:Artifact)-[rel]->(r:Release)-[rel2]-(av:AddedValue)\n",
    "WHERE av.type = 'FRESHNESS'\n",
    "RETURN a.id AS artifact_id, a.communityId AS community_id, av.value AS VALUE\n",
    "LIMIT 1\n",
    "\"\"\"\n",
    "results = execute_query(query)\n",
    "print(pd.DataFrame(results))"
   ]
  },
  {
   "cell_type": "markdown",
   "id": "8701c85c-48a4-4492-b04d-8db34352f069",
   "metadata": {},
   "source": [
    "**Fetch Data**"
   ]
  },
  {
   "cell_type": "code",
   "execution_count": 22,
   "id": "0c3a6d23-062b-44e9-85bb-5afd8ff954cf",
   "metadata": {},
   "outputs": [],
   "source": [
    "def get_freshness_data_batch(skip, limit):\n",
    "    query = f\"\"\"\n",
    "    MATCH (a:Artifact)-[rel]->(r:Release)-[rel2]->(av:AddedValue)\n",
    "    WHERE av.type = 'FRESHNESS' AND av.value IS NOT NULL\n",
    "    RETURN a.id AS artifact_id, a.communityId AS community_id, av.value AS freshness_json\n",
    "    SKIP {skip}\n",
    "    LIMIT {limit}\n",
    "    \"\"\"\n",
    "    results = execute_query(query)\n",
    "    return pd.DataFrame(results)\n"
   ]
  },
  {
   "cell_type": "code",
   "execution_count": 24,
   "id": "32e0d9b7-cb25-4c78-9735-229eb77b866e",
   "metadata": {},
   "outputs": [],
   "source": [
    "def parse_freshness(json_str):\n",
    "    try:\n",
    "        # Clean the JSON string if necessary\n",
    "        json_str = json_str.replace('\\\\', '')\n",
    "        data = json.loads(json_str)\n",
    "        freshness = data.get('freshness', {})\n",
    "        number_missed_release = int(freshness.get('numberMissedRelease', '0'))\n",
    "        outdated_time_ms = int(freshness.get('outdatedTimeInMs', '0'))\n",
    "        return number_missed_release, outdated_time_ms\n",
    "    except (json.JSONDecodeError, ValueError, TypeError) as e:\n",
    "        return None, None\n"
   ]
  },
  {
   "cell_type": "code",
   "execution_count": 26,
   "id": "49537bcf-6d14-4db6-aa25-07ac5204945b",
   "metadata": {},
   "outputs": [],
   "source": [
    "def process_freshness_batch(batch_df):\n",
    "    # Apply the parsing function to extract the metrics\n",
    "    batch_df[['number_missed_release', 'outdated_time_ms']] = batch_df['freshness_json'].apply(\n",
    "        lambda x: pd.Series(parse_freshness(x))\n",
    "    )\n",
    "\n",
    "    # Ensure numeric types\n",
    "    batch_df['number_missed_release'] = pd.to_numeric(batch_df['number_missed_release'], errors='coerce')\n",
    "    batch_df['outdated_time_ms'] = pd.to_numeric(batch_df['outdated_time_ms'], errors='coerce')\n",
    "\n",
    "    # Drop rows with missing 'outdated_time_ms'\n",
    "    batch_df = batch_df.dropna(subset=['outdated_time_ms'])\n",
    "\n",
    "    # Convert milliseconds to days\n",
    "    batch_df['outdated_time_days'] = batch_df['outdated_time_ms'] / (1000 * 60 * 60 * 24)\n",
    "\n",
    "    # Return the processed batch\n",
    "    return batch_df\n",
    "\n"
   ]
  },
  {
   "cell_type": "markdown",
   "id": "aa32eb59-5d52-4a69-95b5-b0988a2093cd",
   "metadata": {},
   "source": [
    "\n",
    "**Fetch and Aggregate Data** - THIS TAKES A LONG TIME (USE SAVED FILE IF POSSIBLE)"
   ]
  },
  {
   "cell_type": "code",
   "execution_count": 30,
   "id": "7bf96ab6-82f3-4e36-b7a6-42973b504454",
   "metadata": {
    "scrolled": true
   },
   "outputs": [
    {
     "name": "stdout",
     "output_type": "stream",
     "text": [
      "Total FRESHNESS records: 14459139\n",
      "Fetching records 0 to 99999\n",
      "Fetching records 100000 to 199999\n",
      "Fetching records 200000 to 299999\n",
      "Fetching records 300000 to 399999\n",
      "Fetching records 400000 to 499999\n",
      "Fetching records 500000 to 599999\n",
      "Fetching records 600000 to 699999\n",
      "Fetching records 700000 to 799999\n",
      "Fetching records 800000 to 899999\n",
      "Fetching records 900000 to 999999\n",
      "Fetching records 1000000 to 1099999\n",
      "Fetching records 1100000 to 1199999\n",
      "Fetching records 1200000 to 1299999\n",
      "Fetching records 1300000 to 1399999\n",
      "Fetching records 1400000 to 1499999\n",
      "Fetching records 1500000 to 1599999\n",
      "Fetching records 1600000 to 1699999\n",
      "Fetching records 1700000 to 1799999\n",
      "Fetching records 1800000 to 1899999\n",
      "Fetching records 1900000 to 1999999\n",
      "Fetching records 2000000 to 2099999\n",
      "Fetching records 2100000 to 2199999\n",
      "Fetching records 2200000 to 2299999\n",
      "Fetching records 2300000 to 2399999\n",
      "Fetching records 2400000 to 2499999\n",
      "Fetching records 2500000 to 2599999\n",
      "Fetching records 2600000 to 2699999\n",
      "Fetching records 2700000 to 2799999\n",
      "Fetching records 2800000 to 2899999\n",
      "Fetching records 2900000 to 2999999\n",
      "Fetching records 3000000 to 3099999\n",
      "Fetching records 3100000 to 3199999\n",
      "Fetching records 3200000 to 3299999\n",
      "Fetching records 3300000 to 3399999\n",
      "Fetching records 3400000 to 3499999\n",
      "Fetching records 3500000 to 3599999\n",
      "Fetching records 3600000 to 3699999\n",
      "Fetching records 3700000 to 3799999\n",
      "Fetching records 3800000 to 3899999\n",
      "Fetching records 3900000 to 3999999\n",
      "Fetching records 4000000 to 4099999\n",
      "Fetching records 4100000 to 4199999\n",
      "Fetching records 4200000 to 4299999\n",
      "Fetching records 4300000 to 4399999\n",
      "Fetching records 4400000 to 4499999\n",
      "Fetching records 4500000 to 4599999\n",
      "Fetching records 4600000 to 4699999\n",
      "Fetching records 4700000 to 4799999\n",
      "Fetching records 4800000 to 4899999\n",
      "Fetching records 4900000 to 4999999\n",
      "Fetching records 5000000 to 5099999\n",
      "Fetching records 5100000 to 5199999\n",
      "Fetching records 5200000 to 5299999\n",
      "Fetching records 5300000 to 5399999\n",
      "Fetching records 5400000 to 5499999\n",
      "Fetching records 5500000 to 5599999\n",
      "Fetching records 5600000 to 5699999\n",
      "Fetching records 5700000 to 5799999\n",
      "Fetching records 5800000 to 5899999\n",
      "Fetching records 5900000 to 5999999\n",
      "Fetching records 6000000 to 6099999\n",
      "Fetching records 6100000 to 6199999\n",
      "Fetching records 6200000 to 6299999\n",
      "Fetching records 6300000 to 6399999\n",
      "Fetching records 6400000 to 6499999\n",
      "Fetching records 6500000 to 6599999\n",
      "Fetching records 6600000 to 6699999\n",
      "Fetching records 6700000 to 6799999\n",
      "Fetching records 6800000 to 6899999\n",
      "Fetching records 6900000 to 6999999\n",
      "Fetching records 7000000 to 7099999\n",
      "Fetching records 7100000 to 7199999\n",
      "Fetching records 7200000 to 7299999\n",
      "Fetching records 7300000 to 7399999\n",
      "Fetching records 7400000 to 7499999\n",
      "Fetching records 7500000 to 7599999\n",
      "Fetching records 7600000 to 7699999\n",
      "Fetching records 7700000 to 7799999\n",
      "Fetching records 7800000 to 7899999\n",
      "Fetching records 7900000 to 7999999\n",
      "Fetching records 8000000 to 8099999\n",
      "Fetching records 8100000 to 8199999\n",
      "Fetching records 8200000 to 8299999\n",
      "Fetching records 8300000 to 8399999\n",
      "Fetching records 8400000 to 8499999\n",
      "Fetching records 8500000 to 8599999\n",
      "Fetching records 8600000 to 8699999\n",
      "Fetching records 8700000 to 8799999\n",
      "Fetching records 8800000 to 8899999\n",
      "Fetching records 8900000 to 8999999\n",
      "Fetching records 9000000 to 9099999\n",
      "Fetching records 9100000 to 9199999\n",
      "Fetching records 9200000 to 9299999\n",
      "Fetching records 9300000 to 9399999\n",
      "Fetching records 9400000 to 9499999\n",
      "Fetching records 9500000 to 9599999\n",
      "Fetching records 9600000 to 9699999\n",
      "Fetching records 9700000 to 9799999\n",
      "Fetching records 9800000 to 9899999\n",
      "Fetching records 9900000 to 9999999\n",
      "Fetching records 10000000 to 10099999\n",
      "Fetching records 10100000 to 10199999\n",
      "Fetching records 10200000 to 10299999\n",
      "Fetching records 10300000 to 10399999\n",
      "Fetching records 10400000 to 10499999\n",
      "Fetching records 10500000 to 10599999\n",
      "Fetching records 10600000 to 10699999\n",
      "Fetching records 10700000 to 10799999\n",
      "Fetching records 10800000 to 10899999\n",
      "Fetching records 10900000 to 10999999\n",
      "Fetching records 11000000 to 11099999\n",
      "Fetching records 11100000 to 11199999\n",
      "Fetching records 11200000 to 11299999\n",
      "Fetching records 11300000 to 11399999\n",
      "Fetching records 11400000 to 11499999\n",
      "Fetching records 11500000 to 11599999\n",
      "Fetching records 11600000 to 11699999\n",
      "Fetching records 11700000 to 11799999\n",
      "Fetching records 11800000 to 11899999\n",
      "Fetching records 11900000 to 11999999\n",
      "Fetching records 12000000 to 12099999\n",
      "Fetching records 12100000 to 12199999\n",
      "Fetching records 12200000 to 12299999\n",
      "Fetching records 12300000 to 12399999\n",
      "Fetching records 12400000 to 12499999\n",
      "Fetching records 12500000 to 12599999\n",
      "Fetching records 12600000 to 12699999\n",
      "Fetching records 12700000 to 12799999\n",
      "Fetching records 12800000 to 12899999\n",
      "Fetching records 12900000 to 12999999\n",
      "Fetching records 13000000 to 13099999\n",
      "Fetching records 13100000 to 13199999\n",
      "Fetching records 13200000 to 13299999\n",
      "Fetching records 13300000 to 13399999\n",
      "Fetching records 13400000 to 13499999\n",
      "Fetching records 13500000 to 13599999\n",
      "Fetching records 13600000 to 13699999\n",
      "Fetching records 13700000 to 13799999\n",
      "Fetching records 13800000 to 13899999\n",
      "Fetching records 13900000 to 13999999\n",
      "Fetching records 14000000 to 14099999\n",
      "Fetching records 14100000 to 14199999\n",
      "Fetching records 14200000 to 14299999\n",
      "Fetching records 14300000 to 14399999\n",
      "Fetching records 14400000 to 14459139\n",
      "Processed FRESHNESS Data:\n",
      "                                     artifact_id  community_id  \\\n",
      "0  com.softwaremill.sttp.client:core_sjs0.6_2.13         26959   \n",
      "1                          com.ibeetl:act-sample         29418   \n",
      "2  com.softwaremill.sttp.client:core_sjs0.6_2.13         26959   \n",
      "3                    com.lihaoyi:ammonite_2.12.1         26959   \n",
      "4                 com.yahoo.vespa:container-disc         50022   \n",
      "\n",
      "                                      freshness_json  number_missed_release  \\\n",
      "0  {\\\"freshness\\\":{\\\"numberMissedRelease\\\":\\\"7\\\",...                      7   \n",
      "1  {\\\"freshness\\\":{\\\"numberMissedRelease\\\":\\\"2\\\",...                      2   \n",
      "2  {\\\"freshness\\\":{\\\"numberMissedRelease\\\":\\\"9\\\",...                      9   \n",
      "3  {\\\"freshness\\\":{\\\"numberMissedRelease\\\":\\\"367\\...                    367   \n",
      "4  {\\\"freshness\\\":{\\\"numberMissedRelease\\\":\\\"448\\...                    448   \n",
      "\n",
      "   outdated_time_ms  outdated_time_days  \n",
      "0        3795765000           43.932465  \n",
      "1       11941344000          138.210000  \n",
      "2        4685281000           54.227789  \n",
      "3      142773884000         1652.475509  \n",
      "4      105191360000         1217.492593  \n"
     ]
    }
   ],
   "source": [
    "batch_size = 100000  # Adjust as needed\n",
    "total_records = get_total_freshness_records()\n",
    "print(f\"Total FRESHNESS records: {total_records}\")\n",
    "\n",
    "processed_batches = []\n",
    "for skip in range(0, total_records, batch_size):\n",
    "    print(f\"Fetching records {skip} to {min(skip + batch_size - 1, total_records)}\")\n",
    "    # Fetch the batch\n",
    "    batch_df = get_freshness_data_batch(skip, batch_size)\n",
    "    \n",
    "    # Process and parse the batch\n",
    "    processed_batch = process_freshness_batch(batch_df)\n",
    "    \n",
    "    # Append to the list of processed batches\n",
    "    processed_batches.append(processed_batch)\n",
    "\n",
    "    # Clear variables to free up memory\n",
    "    del batch_df\n",
    "    del processed_batch\n",
    "\n",
    "# Concatenate all processed batches into a single DataFrame\n",
    "freshness_df = pd.concat(processed_batches, ignore_index=True)\n",
    "\n",
    "# Display the first few rows\n",
    "print(\"Processed FRESHNESS Data:\")\n",
    "print(freshness_df.head())\n",
    "\n"
   ]
  },
  {
   "cell_type": "code",
   "execution_count": 32,
   "id": "c1531222-bbc6-4908-b8f2-4bf950ef20c1",
   "metadata": {},
   "outputs": [
    {
     "name": "stdout",
     "output_type": "stream",
     "text": [
      "Columns in freshness_df after modifying the query:\n",
      "Index(['artifact_id', 'community_id', 'freshness_json',\n",
      "       'number_missed_release', 'outdated_time_ms', 'outdated_time_days'],\n",
      "      dtype='object')\n",
      "First few rows of freshness_df:\n",
      "                                     artifact_id  community_id  \\\n",
      "0  com.softwaremill.sttp.client:core_sjs0.6_2.13         26959   \n",
      "1                          com.ibeetl:act-sample         29418   \n",
      "2  com.softwaremill.sttp.client:core_sjs0.6_2.13         26959   \n",
      "3                    com.lihaoyi:ammonite_2.12.1         26959   \n",
      "4                 com.yahoo.vespa:container-disc         50022   \n",
      "\n",
      "                                      freshness_json  number_missed_release  \\\n",
      "0  {\\\"freshness\\\":{\\\"numberMissedRelease\\\":\\\"7\\\",...                      7   \n",
      "1  {\\\"freshness\\\":{\\\"numberMissedRelease\\\":\\\"2\\\",...                      2   \n",
      "2  {\\\"freshness\\\":{\\\"numberMissedRelease\\\":\\\"9\\\",...                      9   \n",
      "3  {\\\"freshness\\\":{\\\"numberMissedRelease\\\":\\\"367\\...                    367   \n",
      "4  {\\\"freshness\\\":{\\\"numberMissedRelease\\\":\\\"448\\...                    448   \n",
      "\n",
      "   outdated_time_ms  outdated_time_days  \n",
      "0        3795765000           43.932465  \n",
      "1       11941344000          138.210000  \n",
      "2        4685281000           54.227789  \n",
      "3      142773884000         1652.475509  \n",
      "4      105191360000         1217.492593  \n"
     ]
    }
   ],
   "source": [
    "# Display the columns and first few rows\n",
    "print(\"Columns in freshness_df after modifying the query:\")\n",
    "print(freshness_df.columns)\n",
    "print(\"First few rows of freshness_df:\")\n",
    "print(freshness_df.head())"
   ]
  },
  {
   "cell_type": "code",
   "execution_count": 151,
   "id": "41ae9074-1c8b-4143-be44-bfe79b5c323a",
   "metadata": {},
   "outputs": [],
   "source": [
    "# Export Data\n",
    "freshness_df.to_csv('Freshness_data.csv', index=False)"
   ]
  },
  {
   "cell_type": "markdown",
   "id": "c6aac3c5-1a52-4d31-b0f9-5e880a474a14",
   "metadata": {},
   "source": [
    "### Data Analysis - Freshness"
   ]
  },
  {
   "cell_type": "markdown",
   "id": "16144a9b-5d95-46b1-bedd-985d46e2eb74",
   "metadata": {},
   "source": [
    "**Aggregating FRESHNESS Metrics per Cluster**"
   ]
  },
  {
   "cell_type": "code",
   "execution_count": 36,
   "id": "cf5cff03-77fd-4fc4-9c74-15534635fa07",
   "metadata": {},
   "outputs": [
    {
     "name": "stdout",
     "output_type": "stream",
     "text": [
      "Average Freshness per Cluster:\n",
      "   Community ID  Average Freshness (Days)\n",
      "0             0                 31.300386\n",
      "1             1                195.021071\n",
      "2             2                  0.000000\n",
      "3             3                  0.000000\n",
      "4             4                  0.000000\n",
      "5             5                  0.000000\n",
      "6             6                322.837211\n",
      "7             7                  0.000000\n",
      "8             8                  7.664687\n",
      "9             9                  0.000000\n"
     ]
    }
   ],
   "source": [
    "# Group by community ID and calculate the average freshness (in days) per cluster\n",
    "cluster_freshness = freshness_df.groupby('community_id').agg({\n",
    "    'outdated_time_days': 'mean'\n",
    "}).reset_index()\n",
    "\n",
    "# Rename columns for clarity\n",
    "cluster_freshness = cluster_freshness.rename(columns={\n",
    "    'community_id': 'Community ID',\n",
    "    'outdated_time_days': 'Average Freshness (Days)'\n",
    "})\n",
    "\n",
    "# Display the first few rows\n",
    "print(\"Average Freshness per Cluster:\")\n",
    "print(cluster_freshness.head(10))\n"
   ]
  },
  {
   "cell_type": "markdown",
   "id": "4d21ef54-dd5a-472c-8c5f-1006fb55755b",
   "metadata": {},
   "source": [
    "**Save Results Locally - As Pickle Structure**"
   ]
  },
  {
   "cell_type": "code",
   "execution_count": 38,
   "id": "9b08bc56-ba27-4863-a77d-52fdb859e085",
   "metadata": {},
   "outputs": [
    {
     "name": "stdout",
     "output_type": "stream",
     "text": [
      "Data saved to 'cluster_freshness_metrics.pkl'\n"
     ]
    }
   ],
   "source": [
    "# Save the DataFrame to a Pickle file (more efficient for large data)\n",
    "cluster_freshness.to_pickle('cluster_freshness_metrics.pkl')\n",
    "print(\"Data saved to 'cluster_freshness_metrics.pkl'\")"
   ]
  },
  {
   "cell_type": "code",
   "execution_count": 40,
   "id": "4ed213e3-2057-4439-9ba8-74e6c63088a0",
   "metadata": {},
   "outputs": [],
   "source": [
    "# Export as csv\n",
    "cluster_freshness.to_csv('cluster_freshness_data.csv', index=False)"
   ]
  },
  {
   "cell_type": "markdown",
   "id": "e361a5c8-b813-4984-9f30-7b7a13b6d149",
   "metadata": {},
   "source": [
    "**Load Data**"
   ]
  },
  {
   "cell_type": "code",
   "execution_count": 42,
   "id": "818e0d9e-f345-49a0-9342-1c7185e65058",
   "metadata": {},
   "outputs": [
    {
     "name": "stdout",
     "output_type": "stream",
     "text": [
      "Data loaded from 'cluster_freshness_metrics.pkl'\n",
      "                                     artifact_id  community_id  \\\n",
      "0  com.softwaremill.sttp.client:core_sjs0.6_2.13         26959   \n",
      "1                          com.ibeetl:act-sample         29418   \n",
      "2  com.softwaremill.sttp.client:core_sjs0.6_2.13         26959   \n",
      "3                    com.lihaoyi:ammonite_2.12.1         26959   \n",
      "4                 com.yahoo.vespa:container-disc         50022   \n",
      "\n",
      "                                      freshness_json  number_missed_release  \\\n",
      "0  {\\\"freshness\\\":{\\\"numberMissedRelease\\\":\\\"7\\\",...                      7   \n",
      "1  {\\\"freshness\\\":{\\\"numberMissedRelease\\\":\\\"2\\\",...                      2   \n",
      "2  {\\\"freshness\\\":{\\\"numberMissedRelease\\\":\\\"9\\\",...                      9   \n",
      "3  {\\\"freshness\\\":{\\\"numberMissedRelease\\\":\\\"367\\...                    367   \n",
      "4  {\\\"freshness\\\":{\\\"numberMissedRelease\\\":\\\"448\\...                    448   \n",
      "\n",
      "   outdated_time_ms  outdated_time_days  \n",
      "0        3795765000           43.932465  \n",
      "1       11941344000          138.210000  \n",
      "2        4685281000           54.227789  \n",
      "3      142773884000         1652.475509  \n",
      "4      105191360000         1217.492593  \n"
     ]
    }
   ],
   "source": [
    "# Load the DataFrame from the Pickle file\n",
    "cluster_freshness = pd.read_pickle('cluster_freshness_metrics.pkl')\n",
    "print(\"Data loaded from 'cluster_freshness_metrics.pkl'\")\n",
    "\n",
    "# Print the first few lines of the DataFrame\n",
    "print(freshness_df.head())\n"
   ]
  },
  {
   "cell_type": "markdown",
   "id": "bccf7b15-52ef-4857-a119-b21a68ca661c",
   "metadata": {},
   "source": [
    "## POPULARITY"
   ]
  },
  {
   "cell_type": "markdown",
   "id": "45eec22c-23c0-4d11-8e75-b353068c431d",
   "metadata": {},
   "source": [
    "### Fetch Popularity Data from the Database"
   ]
  },
  {
   "cell_type": "markdown",
   "id": "2748ee87-c14d-4d50-b1ba-4efba26807ee",
   "metadata": {},
   "source": [
    "**Define the Query**"
   ]
  },
  {
   "cell_type": "code",
   "execution_count": 10,
   "id": "6e1bb0fd-7970-4683-b66e-3688a53e84fa",
   "metadata": {},
   "outputs": [],
   "source": [
    "def get_total_popularity_records():\n",
    "    query = \"\"\"\n",
    "    MATCH (a:Artifact)-[rel]->(r:Release)-[rel2]->(av:AddedValue)\n",
    "    WHERE av.type = 'POPULARITY_1_YEAR' AND av.value IS NOT NULL\n",
    "    RETURN count(*) AS total_records\n",
    "    \"\"\"\n",
    "    result = execute_query(query)\n",
    "    return result[0]['total_records']\n",
    "\n",
    "def get_popularity_data_batch(skip, limit):\n",
    "    query = f\"\"\"\n",
    "    MATCH (a:Artifact)-[rel]->(r:Release)-[rel2]->(av:AddedValue)\n",
    "    WHERE av.type = 'POPULARITY_1_YEAR' AND av.value IS NOT NULL\n",
    "    RETURN a.id AS artifact_id, a.communityId AS community_id, av.value AS popularity_value\n",
    "    SKIP {skip}\n",
    "    LIMIT {limit}\n",
    "    \"\"\"\n",
    "    results = execute_query(query)\n",
    "    return pd.DataFrame(results)\n"
   ]
  },
  {
   "cell_type": "markdown",
   "id": "311c755c-2ad4-4045-8662-c1b5f7a265f5",
   "metadata": {},
   "source": [
    "**Get Total Popularity Records**"
   ]
  },
  {
   "cell_type": "code",
   "execution_count": 13,
   "id": "f4dfba9f-d8cb-4a00-b2a4-ae0c0c462778",
   "metadata": {},
   "outputs": [
    {
     "name": "stdout",
     "output_type": "stream",
     "text": [
      "Total POPULARITY records: 14459139\n"
     ]
    }
   ],
   "source": [
    "total_records = get_total_popularity_records()\n",
    "print(f\"Total POPULARITY records: {total_records}\")"
   ]
  },
  {
   "cell_type": "markdown",
   "id": "b65dd5cc-2ecd-401d-9bf7-c6c49b53533a",
   "metadata": {},
   "source": [
    "**Fetch Data in Batches**"
   ]
  },
  {
   "cell_type": "code",
   "execution_count": 15,
   "id": "877669eb-2269-499f-a2fb-5b9074ddd77b",
   "metadata": {
    "scrolled": true
   },
   "outputs": [
    {
     "name": "stdout",
     "output_type": "stream",
     "text": [
      "Fetching records 0 to 99999\n",
      "Fetching records 100000 to 199999\n",
      "Fetching records 200000 to 299999\n",
      "Fetching records 300000 to 399999\n",
      "Fetching records 400000 to 499999\n",
      "Fetching records 500000 to 599999\n",
      "Fetching records 600000 to 699999\n",
      "Fetching records 700000 to 799999\n",
      "Fetching records 800000 to 899999\n",
      "Fetching records 900000 to 999999\n",
      "Fetching records 1000000 to 1099999\n",
      "Fetching records 1100000 to 1199999\n",
      "Fetching records 1200000 to 1299999\n",
      "Fetching records 1300000 to 1399999\n",
      "Fetching records 1400000 to 1499999\n",
      "Fetching records 1500000 to 1599999\n",
      "Fetching records 1600000 to 1699999\n",
      "Fetching records 1700000 to 1799999\n",
      "Fetching records 1800000 to 1899999\n",
      "Fetching records 1900000 to 1999999\n",
      "Fetching records 2000000 to 2099999\n",
      "Fetching records 2100000 to 2199999\n",
      "Fetching records 2200000 to 2299999\n",
      "Fetching records 2300000 to 2399999\n",
      "Fetching records 2400000 to 2499999\n",
      "Fetching records 2500000 to 2599999\n",
      "Fetching records 2600000 to 2699999\n",
      "Fetching records 2700000 to 2799999\n",
      "Fetching records 2800000 to 2899999\n",
      "Fetching records 2900000 to 2999999\n",
      "Fetching records 3000000 to 3099999\n",
      "Fetching records 3100000 to 3199999\n",
      "Fetching records 3200000 to 3299999\n",
      "Fetching records 3300000 to 3399999\n",
      "Fetching records 3400000 to 3499999\n",
      "Fetching records 3500000 to 3599999\n",
      "Fetching records 3600000 to 3699999\n",
      "Fetching records 3700000 to 3799999\n",
      "Fetching records 3800000 to 3899999\n",
      "Fetching records 3900000 to 3999999\n",
      "Fetching records 4000000 to 4099999\n",
      "Fetching records 4100000 to 4199999\n",
      "Fetching records 4200000 to 4299999\n",
      "Fetching records 4300000 to 4399999\n",
      "Fetching records 4400000 to 4499999\n",
      "Fetching records 4500000 to 4599999\n",
      "Fetching records 4600000 to 4699999\n",
      "Fetching records 4700000 to 4799999\n",
      "Fetching records 4800000 to 4899999\n",
      "Fetching records 4900000 to 4999999\n",
      "Fetching records 5000000 to 5099999\n",
      "Fetching records 5100000 to 5199999\n",
      "Fetching records 5200000 to 5299999\n",
      "Fetching records 5300000 to 5399999\n",
      "Fetching records 5400000 to 5499999\n",
      "Fetching records 5500000 to 5599999\n",
      "Fetching records 5600000 to 5699999\n",
      "Fetching records 5700000 to 5799999\n",
      "Fetching records 5800000 to 5899999\n",
      "Fetching records 5900000 to 5999999\n",
      "Fetching records 6000000 to 6099999\n",
      "Fetching records 6100000 to 6199999\n",
      "Fetching records 6200000 to 6299999\n",
      "Fetching records 6300000 to 6399999\n",
      "Fetching records 6400000 to 6499999\n",
      "Fetching records 6500000 to 6599999\n",
      "Fetching records 6600000 to 6699999\n",
      "Fetching records 6700000 to 6799999\n",
      "Fetching records 6800000 to 6899999\n",
      "Fetching records 6900000 to 6999999\n",
      "Fetching records 7000000 to 7099999\n",
      "Fetching records 7100000 to 7199999\n",
      "Fetching records 7200000 to 7299999\n",
      "Fetching records 7300000 to 7399999\n",
      "Fetching records 7400000 to 7499999\n",
      "Fetching records 7500000 to 7599999\n",
      "Fetching records 7600000 to 7699999\n",
      "Fetching records 7700000 to 7799999\n",
      "Fetching records 7800000 to 7899999\n",
      "Fetching records 7900000 to 7999999\n",
      "Fetching records 8000000 to 8099999\n",
      "Fetching records 8100000 to 8199999\n",
      "Fetching records 8200000 to 8299999\n",
      "Fetching records 8300000 to 8399999\n",
      "Fetching records 8400000 to 8499999\n",
      "Fetching records 8500000 to 8599999\n",
      "Fetching records 8600000 to 8699999\n",
      "Fetching records 8700000 to 8799999\n",
      "Fetching records 8800000 to 8899999\n",
      "Fetching records 8900000 to 8999999\n",
      "Fetching records 9000000 to 9099999\n",
      "Fetching records 9100000 to 9199999\n",
      "Fetching records 9200000 to 9299999\n",
      "Fetching records 9300000 to 9399999\n",
      "Fetching records 9400000 to 9499999\n",
      "Fetching records 9500000 to 9599999\n",
      "Fetching records 9600000 to 9699999\n",
      "Fetching records 9700000 to 9799999\n",
      "Fetching records 9800000 to 9899999\n",
      "Fetching records 9900000 to 9999999\n",
      "Fetching records 10000000 to 10099999\n",
      "Fetching records 10100000 to 10199999\n",
      "Fetching records 10200000 to 10299999\n",
      "Fetching records 10300000 to 10399999\n",
      "Fetching records 10400000 to 10499999\n",
      "Fetching records 10500000 to 10599999\n",
      "Fetching records 10600000 to 10699999\n",
      "Fetching records 10700000 to 10799999\n",
      "Fetching records 10800000 to 10899999\n",
      "Fetching records 10900000 to 10999999\n",
      "Fetching records 11000000 to 11099999\n",
      "Fetching records 11100000 to 11199999\n",
      "Fetching records 11200000 to 11299999\n",
      "Fetching records 11300000 to 11399999\n",
      "Fetching records 11400000 to 11499999\n",
      "Fetching records 11500000 to 11599999\n",
      "Fetching records 11600000 to 11699999\n",
      "Fetching records 11700000 to 11799999\n",
      "Fetching records 11800000 to 11899999\n",
      "Fetching records 11900000 to 11999999\n",
      "Fetching records 12000000 to 12099999\n",
      "Fetching records 12100000 to 12199999\n",
      "Fetching records 12200000 to 12299999\n",
      "Fetching records 12300000 to 12399999\n",
      "Fetching records 12400000 to 12499999\n",
      "Fetching records 12500000 to 12599999\n",
      "Fetching records 12600000 to 12699999\n",
      "Fetching records 12700000 to 12799999\n",
      "Fetching records 12800000 to 12899999\n",
      "Fetching records 12900000 to 12999999\n",
      "Fetching records 13000000 to 13099999\n",
      "Fetching records 13100000 to 13199999\n",
      "Fetching records 13200000 to 13299999\n",
      "Fetching records 13300000 to 13399999\n",
      "Fetching records 13400000 to 13499999\n",
      "Fetching records 13500000 to 13599999\n",
      "Fetching records 13600000 to 13699999\n",
      "Fetching records 13700000 to 13799999\n",
      "Fetching records 13800000 to 13899999\n",
      "Fetching records 13900000 to 13999999\n",
      "Fetching records 14000000 to 14099999\n",
      "Fetching records 14100000 to 14199999\n",
      "Fetching records 14200000 to 14299999\n",
      "Fetching records 14300000 to 14399999\n",
      "Fetching records 14400000 to 14459139\n"
     ]
    }
   ],
   "source": [
    "batch_size = 100000  # Adjust as needed\n",
    "\n",
    "processed_batches = []\n",
    "for skip in range(0, total_records, batch_size):\n",
    "    print(f\"Fetching records {skip} to {min(skip + batch_size - 1, total_records)}\")\n",
    "    # Fetch the batch\n",
    "    batch_df = get_popularity_data_batch(skip, batch_size)\n",
    "    \n",
    "    # Process the batch (if needed)\n",
    "    processed_batches.append(batch_df)\n"
   ]
  },
  {
   "cell_type": "markdown",
   "id": "ea8ac462-276a-491e-8e92-7d6bc0084d08",
   "metadata": {},
   "source": [
    "**Combine the Batches**"
   ]
  },
  {
   "cell_type": "code",
   "execution_count": 18,
   "id": "a03410b5-891d-409f-a3a5-779a5d680302",
   "metadata": {},
   "outputs": [
    {
     "name": "stdout",
     "output_type": "stream",
     "text": [
      "Popularity Data:\n",
      "                                     artifact_id  community_id  \\\n",
      "0  com.softwaremill.sttp.client:core_sjs0.6_2.13         26959   \n",
      "1                          com.ibeetl:act-sample         29418   \n",
      "2  com.softwaremill.sttp.client:core_sjs0.6_2.13         26959   \n",
      "3                    com.lihaoyi:ammonite_2.12.1         26959   \n",
      "4                 com.yahoo.vespa:container-disc         50022   \n",
      "\n",
      "  popularity_value  \n",
      "0                0  \n",
      "1                0  \n",
      "2                0  \n",
      "3                0  \n",
      "4                0  \n"
     ]
    }
   ],
   "source": [
    "# Concatenate all processed batches into a single DataFrame\n",
    "popularity_df = pd.concat(processed_batches, ignore_index=True)\n",
    "\n",
    "# Display the first few rows\n",
    "print(\"Popularity Data:\")\n",
    "print(popularity_df.head())\n"
   ]
  },
  {
   "cell_type": "code",
   "execution_count": 22,
   "id": "1699f084-ab63-40eb-b67c-026937ef69b6",
   "metadata": {},
   "outputs": [],
   "source": [
    "# Export Data\n",
    "popularity_df.to_csv('Popularity_data.csv', index=False)"
   ]
  },
  {
   "cell_type": "markdown",
   "id": "c6c51c45-67a9-49eb-86f9-c1465a7a9d28",
   "metadata": {},
   "source": [
    "### Process Popularity Data"
   ]
  },
  {
   "cell_type": "markdown",
   "id": "4a2844b4-be1d-4783-962a-51680be42568",
   "metadata": {},
   "source": [
    "**Ensure Correct Data Types**"
   ]
  },
  {
   "cell_type": "code",
   "execution_count": 26,
   "id": "b68175f0-b558-4799-875a-8cfb7d565860",
   "metadata": {},
   "outputs": [],
   "source": [
    "# Convert 'popularity_value' to numeric\n",
    "popularity_df['popularity_value'] = pd.to_numeric(popularity_df['popularity_value'], errors='coerce')\n",
    "\n",
    "# Handle missing or invalid values\n",
    "popularity_df = popularity_df.dropna(subset=['popularity_value'])\n"
   ]
  },
  {
   "cell_type": "markdown",
   "id": "cf2d99b7-84d1-4f81-b41e-3352670bbaec",
   "metadata": {},
   "source": [
    "**Aggregate Popularity per Cluster**"
   ]
  },
  {
   "cell_type": "code",
   "execution_count": 29,
   "id": "5f284d06-ca80-4ca5-8d1d-eb8aa4eacfb3",
   "metadata": {},
   "outputs": [
    {
     "name": "stdout",
     "output_type": "stream",
     "text": [
      "Average Popularity per Cluster:\n",
      "   Community ID  Average Popularity\n",
      "0             0                 0.0\n",
      "1             1                 0.0\n",
      "2             2                 0.0\n",
      "3             3                 0.0\n",
      "4             4                 0.0\n"
     ]
    }
   ],
   "source": [
    "# Group by community ID and calculate the average popularity per cluster\n",
    "cluster_popularity = popularity_df.groupby('community_id').agg({\n",
    "    'popularity_value': 'mean'\n",
    "}).reset_index()\n",
    "\n",
    "# Rename columns for clarity\n",
    "cluster_popularity = cluster_popularity.rename(columns={\n",
    "    'community_id': 'Community ID',\n",
    "    'popularity_value': 'Average Popularity'\n",
    "})\n",
    "\n",
    "# Display the first few rows\n",
    "print(\"Average Popularity per Cluster:\")\n",
    "print(cluster_popularity.head())\n"
   ]
  },
  {
   "cell_type": "markdown",
   "id": "f54f5f6f-c345-43f5-8538-64e157f3fc01",
   "metadata": {},
   "source": [
    "### Save the Processed Popularity Data"
   ]
  },
  {
   "cell_type": "code",
   "execution_count": 32,
   "id": "14379ed1-a574-4762-8eac-76463f48056a",
   "metadata": {},
   "outputs": [
    {
     "name": "stdout",
     "output_type": "stream",
     "text": [
      "Popularity metrics saved to 'cluster_popularity_metrics.pkl'\n"
     ]
    }
   ],
   "source": [
    "# Save the DataFrame to a Pickle file\n",
    "cluster_popularity.to_pickle('cluster_popularity_metrics.pkl')\n",
    "print(\"Popularity metrics saved to 'cluster_popularity_metrics.pkl'\")\n"
   ]
  },
  {
   "cell_type": "code",
   "execution_count": 34,
   "id": "661cc623-e12f-491d-bfe0-257bbe74b9d4",
   "metadata": {},
   "outputs": [],
   "source": [
    "# Export Data\n",
    "cluster_popularity.to_csv('cluster_popularity_data.csv', index=False)"
   ]
  },
  {
   "cell_type": "markdown",
   "id": "dc72ea64-6e17-4a21-821d-cece19ce8382",
   "metadata": {},
   "source": [
    "**Load for Verification**"
   ]
  },
  {
   "cell_type": "code",
   "execution_count": 37,
   "id": "d82f75d6-56e1-47a8-8f72-8e8457ed0d3d",
   "metadata": {},
   "outputs": [
    {
     "name": "stdout",
     "output_type": "stream",
     "text": [
      "Data loaded from 'cluster_popularity_metrics.pkl'\n",
      "   Community ID  Average Popularity\n",
      "0             0                 0.0\n",
      "1             1                 0.0\n",
      "2             2                 0.0\n",
      "3             3                 0.0\n",
      "4             4                 0.0\n"
     ]
    }
   ],
   "source": [
    "# Load the DataFrame from the Pickle file\n",
    "cluster_popularity = pd.read_pickle('cluster_popularity_metrics.pkl')\n",
    "print(\"Data loaded from 'cluster_popularity_metrics.pkl'\")\n",
    "\n",
    "# Print the first few lines of the DataFrame\n",
    "print(cluster_popularity.head())\n"
   ]
  },
  {
   "cell_type": "code",
   "execution_count": 39,
   "id": "e29faf26-d979-4bbe-a9a5-c30ead52519b",
   "metadata": {},
   "outputs": [
    {
     "name": "stdout",
     "output_type": "stream",
     "text": [
      "       Community ID  Average Popularity\n",
      "28933         28947            6.663125\n",
      "49913         49945            5.809125\n",
      "18237         18244            5.729167\n",
      "22331         22341            5.729167\n",
      "39668         39690            5.223476\n",
      "4176           4176            5.205418\n",
      "35888         35907            5.116409\n",
      "19687         19694            3.497355\n",
      "30225         30242            3.000000\n",
      "29011         29025            2.933333\n"
     ]
    }
   ],
   "source": [
    "print(cluster_popularity.sort_values(by='Average Popularity', ascending=False).head(10))"
   ]
  },
  {
   "cell_type": "markdown",
   "id": "0f6b1799-fc09-4a85-b143-6b61ac289a1b",
   "metadata": {},
   "source": [
    "## SPEED"
   ]
  },
  {
   "cell_type": "markdown",
   "id": "b7590660-608b-4f3d-8c8d-193ad19bc2ff",
   "metadata": {},
   "source": [
    "### Fetch SPEED Data from the Database"
   ]
  },
  {
   "cell_type": "markdown",
   "id": "4ffac956-f553-4d5b-a7f9-0fe42c9838a6",
   "metadata": {},
   "source": [
    "**Define the Query**"
   ]
  },
  {
   "cell_type": "code",
   "execution_count": 44,
   "id": "3163e86a-0c52-4ac5-babe-7c5899efde9a",
   "metadata": {},
   "outputs": [],
   "source": [
    "def get_total_speed_records():\n",
    "    query = \"\"\"\n",
    "    MATCH (a:Artifact)-[rel]->(av:AddedValue)\n",
    "    WHERE av.type = 'SPEED' AND av.value IS NOT NULL\n",
    "    RETURN count(*) AS total_records\n",
    "    \"\"\"\n",
    "    result = execute_query(query)\n",
    "    return result[0]['total_records']\n",
    "\n",
    "def get_speed_data_batch(skip, limit):\n",
    "    query = f\"\"\"\n",
    "    MATCH (a:Artifact)-[rel]->(av:AddedValue)\n",
    "    WHERE av.type = 'SPEED' AND av.value IS NOT NULL\n",
    "    RETURN a.id AS artifact_id, a.communityId AS community_id, av.value AS speed_value\n",
    "    SKIP {skip}\n",
    "    LIMIT {limit}\n",
    "    \"\"\"\n",
    "    results = execute_query(query)\n",
    "    return pd.DataFrame(results)\n"
   ]
  },
  {
   "cell_type": "markdown",
   "id": "ce9da6cd-2537-4cd7-8e4b-8e955e32e2df",
   "metadata": {},
   "source": [
    "**Get Total Records**"
   ]
  },
  {
   "cell_type": "code",
   "execution_count": 47,
   "id": "d9f111bf-a18d-43b9-bb5f-4b82cff11efe",
   "metadata": {},
   "outputs": [
    {
     "name": "stdout",
     "output_type": "stream",
     "text": [
      "Total SPEED records: 658078\n"
     ]
    }
   ],
   "source": [
    "total_records = get_total_speed_records()\n",
    "print(f\"Total SPEED records: {total_records}\")"
   ]
  },
  {
   "cell_type": "markdown",
   "id": "16c29335-27b9-4877-8124-3c56b273bb80",
   "metadata": {},
   "source": [
    "**Fetch Data in Batches**"
   ]
  },
  {
   "cell_type": "code",
   "execution_count": 50,
   "id": "b2b0f9df-427a-4249-8df7-ff9cb46701ee",
   "metadata": {},
   "outputs": [
    {
     "name": "stdout",
     "output_type": "stream",
     "text": [
      "Fetching records 0 to 99999\n",
      "Fetching records 100000 to 199999\n",
      "Fetching records 200000 to 299999\n",
      "Fetching records 300000 to 399999\n",
      "Fetching records 400000 to 499999\n",
      "Fetching records 500000 to 599999\n",
      "Fetching records 600000 to 658078\n"
     ]
    }
   ],
   "source": [
    "batch_size = 100000  # Adjust as needed\n",
    "\n",
    "processed_batches = []\n",
    "for skip in range(0, total_records, batch_size):\n",
    "    print(f\"Fetching records {skip} to {min(skip + batch_size - 1, total_records)}\")\n",
    "    # Fetch the batch\n",
    "    batch_df = get_speed_data_batch(skip, batch_size)\n",
    "    \n",
    "    # Process the batch (if needed)\n",
    "    processed_batches.append(batch_df)"
   ]
  },
  {
   "cell_type": "markdown",
   "id": "fbba826a-8183-485a-85c9-96a6a0087d2e",
   "metadata": {},
   "source": [
    "**Combine Batches**"
   ]
  },
  {
   "cell_type": "code",
   "execution_count": 53,
   "id": "2bd55562-7eb8-44f9-b16d-ffe352a08a56",
   "metadata": {},
   "outputs": [
    {
     "name": "stdout",
     "output_type": "stream",
     "text": [
      "SPEED Data:\n",
      "                                         artifact_id  community_id  \\\n",
      "0               com.splendo.kaluga:alerts-androidlib         28940   \n",
      "1  org.wso2.carbon.identity.framework:org.wso2.ca...         30270   \n",
      "2  org.apache.camel.quarkus:camel-quarkus-kotlin-...         43407   \n",
      "3    io.projectreactor:reactor-scala-extensions_2.11         48568   \n",
      "4                  com.lihaoyi:ammonite-shell_2.10.5         26959   \n",
      "\n",
      "            speed_value  \n",
      "0  0.014109347442680775  \n",
      "1    0.7062795408507765  \n",
      "2  0.038056206088992975  \n",
      "3   0.01782178217821782  \n",
      "4   0.44660194174757284  \n"
     ]
    }
   ],
   "source": [
    "# Concatenate all processed batches into a single DataFrame\n",
    "speed_df = pd.concat(processed_batches, ignore_index=True)\n",
    "\n",
    "# Display the first few rows\n",
    "print(\"SPEED Data:\")\n",
    "print(speed_df.head())\n"
   ]
  },
  {
   "cell_type": "markdown",
   "id": "67019c5e-14e5-4134-a231-16844e6be3df",
   "metadata": {},
   "source": [
    "### Process the SPEED Data"
   ]
  },
  {
   "cell_type": "code",
   "execution_count": 56,
   "id": "ff070bb8-c8af-4262-9e5c-7c9389c8db9d",
   "metadata": {},
   "outputs": [],
   "source": [
    "# Export Data\n",
    "speed_df.to_csv('Speed_data.csv', index = False)"
   ]
  },
  {
   "cell_type": "markdown",
   "id": "15869b2f-0639-430a-a6f2-2ee404230f9b",
   "metadata": {},
   "source": [
    "**Ensure Correct Data Types**"
   ]
  },
  {
   "cell_type": "code",
   "execution_count": 59,
   "id": "614b913b-bbac-4466-b534-514fbaf184f8",
   "metadata": {},
   "outputs": [],
   "source": [
    "def parse_speed(value):\n",
    "    try:\n",
    "        return float(value)\n",
    "    except (ValueError, TypeError):\n",
    "        return None\n",
    "\n",
    "speed_df['avg_release_interval_days'] = speed_df['speed_value'].apply(parse_speed)\n",
    "\n",
    "# Drop rows with missing 'avg_release_interval_days'\n",
    "speed_df = speed_df.dropna(subset=['avg_release_interval_days'])\n",
    "\n"
   ]
  },
  {
   "cell_type": "markdown",
   "id": "2eb3ff1a-2236-4f4a-a1be-143c46d4644f",
   "metadata": {},
   "source": [
    "**Aggregate SPEED per Cluster**"
   ]
  },
  {
   "cell_type": "code",
   "execution_count": 62,
   "id": "a2268a3e-fb7c-47cd-bd34-7ea9482d8a94",
   "metadata": {},
   "outputs": [
    {
     "name": "stdout",
     "output_type": "stream",
     "text": [
      "Average SPEED per Cluster:\n",
      "   Community ID  Average Speed (Days)\n",
      "0             0              0.003755\n",
      "1             1              0.001709\n",
      "2             2              0.000000\n",
      "3             3              0.000000\n",
      "4             4              0.000000\n"
     ]
    }
   ],
   "source": [
    "# Group by community ID and calculate the average speed per cluster\n",
    "cluster_speed = speed_df.groupby('community_id').agg({\n",
    "    'avg_release_interval_days': 'mean'\n",
    "}).reset_index()\n",
    "\n",
    "# Rename columns for clarity\n",
    "cluster_speed = cluster_speed.rename(columns={\n",
    "    'community_id': 'Community ID',\n",
    "    'avg_release_interval_days': 'Average Speed (Days)'\n",
    "})\n",
    "\n",
    "# Display the first few rows\n",
    "print(\"Average SPEED per Cluster:\")\n",
    "print(cluster_speed.head())\n"
   ]
  },
  {
   "cell_type": "markdown",
   "id": "93b4e030-f2a6-4d9d-ab16-eb8df7cbe601",
   "metadata": {},
   "source": [
    "### Save Processed SPEED Data"
   ]
  },
  {
   "cell_type": "code",
   "execution_count": 65,
   "id": "0cbeeda6-34a5-48dc-9689-ed807ec4163c",
   "metadata": {},
   "outputs": [
    {
     "name": "stdout",
     "output_type": "stream",
     "text": [
      "SPEED metrics saved to 'cluster_speed_metrics.pkl'\n"
     ]
    }
   ],
   "source": [
    "# Save the DataFrame to a Pickle file\n",
    "cluster_speed.to_pickle('cluster_speed_metrics.pkl')\n",
    "print(\"SPEED metrics saved to 'cluster_speed_metrics.pkl'\")\n"
   ]
  },
  {
   "cell_type": "code",
   "execution_count": 67,
   "id": "b114cd5f-2b7d-4080-bdb5-10dfa69b3780",
   "metadata": {},
   "outputs": [],
   "source": [
    "# Export Data\n",
    "cluster_speed.to_csv('cluster_speed_data.csv', index=False)"
   ]
  },
  {
   "cell_type": "markdown",
   "id": "1c118097-b3e2-42dd-a8e5-d0a4b8e65a56",
   "metadata": {},
   "source": [
    "**Load For Verification**"
   ]
  },
  {
   "cell_type": "code",
   "execution_count": 70,
   "id": "b485ca28-647d-407b-80c9-411fbe9a30ce",
   "metadata": {},
   "outputs": [
    {
     "name": "stdout",
     "output_type": "stream",
     "text": [
      "Data loaded from 'cluster_speed_metrics.pkl'\n",
      "   Community ID  Average Speed (Days)\n",
      "0             0              0.003755\n",
      "1             1              0.001709\n",
      "2             2              0.000000\n",
      "3             3              0.000000\n",
      "4             4              0.000000\n"
     ]
    }
   ],
   "source": [
    "# Load the DataFrame from the Pickle file\n",
    "cluster_speed = pd.read_pickle('cluster_speed_metrics.pkl')\n",
    "print(\"Data loaded from 'cluster_speed_metrics.pkl'\")\n",
    "\n",
    "# Print the first few lines of the DataFrame\n",
    "print(cluster_speed.head())"
   ]
  },
  {
   "cell_type": "code",
   "execution_count": 72,
   "id": "dc4509de-1703-4411-beaf-c98246918474",
   "metadata": {},
   "outputs": [
    {
     "name": "stdout",
     "output_type": "stream",
     "text": [
      "       Community ID  Average Speed (Days)\n",
      "51949         51981                 140.0\n",
      "9695           9697                  27.0\n",
      "12256         12259                  22.0\n",
      "4279           4279                  14.0\n",
      "60768         60804                  14.0\n",
      "31399         31416                  13.0\n",
      "16669         16673                  12.0\n",
      "46146         46171                  12.0\n",
      "3865           3865                  11.0\n",
      "18612         18619                  10.0\n"
     ]
    }
   ],
   "source": [
    "print(cluster_speed.sort_values(by='Average Speed (Days)', ascending=False).head(10))"
   ]
  },
  {
   "cell_type": "markdown",
   "id": "70896626-0c9a-4323-8c90-becc6ecde8d3",
   "metadata": {},
   "source": [
    "# Combine Metrics"
   ]
  },
  {
   "cell_type": "markdown",
   "id": "4fc1a1b5-1032-4a1a-94e7-102c31110603",
   "metadata": {},
   "source": [
    "### Load Individual Metrics DataFrames"
   ]
  },
  {
   "cell_type": "code",
   "execution_count": 136,
   "id": "890c7ac8-7cc4-4a9c-bed6-46415bc9f882",
   "metadata": {
    "tags": []
   },
   "outputs": [
    {
     "name": "stdout",
     "output_type": "stream",
     "text": [
      "Loaded 'cluster_cve_metrics.pkl'\n",
      "Loaded 'cluster_freshness_metrics.pkl'\n",
      "Loaded 'cluster_popularity_metrics.pkl'\n",
      "Loaded 'cluster_speed_metrics.pkl'\n"
     ]
    }
   ],
   "source": [
    "# Load individual metrics DataFrames\n",
    "cluster_cve_metrics= pd.read_pickle('cluster_cve_metrics.pkl')\n",
    "print(\"Loaded 'cluster_cve_metrics.pkl'\")\n",
    "\n",
    "# cluster_update_metrics = pd.read_pickle('cluster_update_metrics.pkl')\n",
    "# print(\"Loaded 'cluster_update_metrics.pkl'\")\n",
    "\n",
    "cluster_freshness_metrics = pd.read_pickle('cluster_freshness_metrics.pkl')\n",
    "print(\"Loaded 'cluster_freshness_metrics.pkl'\")\n",
    "\n",
    "cluster_popularity_metrics = pd.read_pickle('cluster_popularity_metrics.pkl')\n",
    "print(\"Loaded 'cluster_popularity_metrics.pkl'\")\n",
    "\n",
    "cluster_speed_metrics = pd.read_pickle('cluster_speed_metrics.pkl')\n",
    "print(\"Loaded 'cluster_speed_metrics.pkl'\")\n"
   ]
  },
  {
   "cell_type": "markdown",
   "id": "4ed85fb8-8f93-49ee-a975-c73b16c72aee",
   "metadata": {},
   "source": [
    "**Verify**"
   ]
  },
  {
   "cell_type": "code",
   "execution_count": 140,
   "id": "f9b47caa-9888-41ae-b02e-94c2b44fdb78",
   "metadata": {
    "tags": []
   },
   "outputs": [
    {
     "name": "stdout",
     "output_type": "stream",
     "text": [
      "   Community ID  Total CVEs  \\\n",
      "0           436         121   \n",
      "\n",
      "                                            CVE List  Num_Releases  \\\n",
      "0  [CVE-2022-25873, CVE-2022-25873, CVE-2022-2587...           121   \n",
      "\n",
      "   Average Severity Score  Normalized Total CVEs  \n",
      "0                     2.0                    1.0  \n",
      "   Community ID  Average Freshness (Days)\n",
      "0             0                 31.300386\n",
      "   Community ID  Average Popularity\n",
      "0             0                 0.0\n",
      "   Community ID  Average Speed (Days)\n",
      "0             0              0.003755\n"
     ]
    }
   ],
   "source": [
    "print(cluster_cve_metrics.head(1))\n",
    "# print(cluster_update_metrics.head(1))\n",
    "print(cluster_freshness_metrics.head(1))\n",
    "print(cluster_popularity_metrics.head(1))\n",
    "print(cluster_speed_metrics.head(1))"
   ]
  },
  {
   "cell_type": "markdown",
   "id": "030e9766-9b98-4969-b2f5-bbf0ef026ab3",
   "metadata": {},
   "source": [
    "### Merge DataFrames into a Single DataFrame"
   ]
  },
  {
   "cell_type": "markdown",
   "id": "c5b74038-114e-4c5b-ba44-3c436a2516a2",
   "metadata": {},
   "source": [
    "**Merge on the 'Community ID' Column**"
   ]
  },
  {
   "cell_type": "code",
   "execution_count": 146,
   "id": "fe5552d1-a116-426c-b538-ea3b23983146",
   "metadata": {
    "tags": []
   },
   "outputs": [],
   "source": [
    "# Start with the CVE metrics DataFrame\n",
    "cluster_risk_metrics = cluster_cve_metrics.copy()\n",
    "\n",
    "# # Merge with update metrics\n",
    "# cluster_risk_metrics = pd.merge(\n",
    "#     cluster_risk_metrics,\n",
    "#     cluster_update_metrics,\n",
    "#     on='Community ID',\n",
    "#     how='outer'\n",
    "# )\n",
    "\n",
    "# Merge with freshness metrics\n",
    "cluster_risk_metrics = pd.merge(\n",
    "    cluster_risk_metrics,\n",
    "    cluster_freshness_metrics,\n",
    "    on='Community ID',\n",
    "    how='outer'\n",
    ")\n",
    "\n",
    "# Merge with popularity metrics\n",
    "cluster_risk_metrics = pd.merge(\n",
    "    cluster_risk_metrics,\n",
    "    cluster_popularity_metrics,\n",
    "    on='Community ID',\n",
    "    how='outer'\n",
    ")\n",
    "\n",
    "# Merge with speed metrics\n",
    "cluster_risk_metrics = pd.merge(\n",
    "    cluster_risk_metrics,\n",
    "    cluster_speed_metrics,\n",
    "    on='Community ID',\n",
    "    how='outer'\n",
    ")\n"
   ]
  },
  {
   "cell_type": "markdown",
   "id": "0c7573d6-1082-4a25-8102-3d80b941bb3a",
   "metadata": {},
   "source": [
    "### Handle Missing Data"
   ]
  },
  {
   "cell_type": "code",
   "execution_count": 149,
   "id": "2379cfae-8530-473f-9a6c-ca48c88a86c1",
   "metadata": {
    "tags": []
   },
   "outputs": [],
   "source": [
    "# List of metrics\n",
    "metrics = [\n",
    "    'Normalized Total CVEs',\n",
    "    'Average Severity Score',\n",
    "    # 'Average Days Since Last Update',\n",
    "    'Average Freshness (Days)',\n",
    "    'Average Popularity',\n",
    "    'Average Speed (Days)'\n",
    "]\n",
    "\n",
    "# Fill missing values with appropriate defaults\n",
    "# For metrics where missing implies zero risk, fill with 0\n",
    "cluster_risk_metrics[metrics] = cluster_risk_metrics[metrics].fillna(0)\n"
   ]
  },
  {
   "cell_type": "markdown",
   "id": "1898b20f-d1a3-4168-a881-a468651507eb",
   "metadata": {},
   "source": [
    "### Save Metrics"
   ]
  },
  {
   "cell_type": "code",
   "execution_count": 152,
   "id": "22f7be87-28e5-448d-877d-79e35fd64fb0",
   "metadata": {
    "tags": []
   },
   "outputs": [
    {
     "name": "stdout",
     "output_type": "stream",
     "text": [
      "Complete Risk metrics saved to 'cluster_risk_metrics.pkl'\n"
     ]
    }
   ],
   "source": [
    "# Save the DataFrame to a Pickle file\n",
    "cluster_risk_metrics.to_pickle('cluster_risk_metrics.pkl')\n",
    "print(\"Complete Risk metrics saved to 'cluster_risk_metrics.pkl'\")"
   ]
  },
  {
   "cell_type": "code",
   "execution_count": 154,
   "id": "3901d744-be92-4047-9462-0603c63fd8ef",
   "metadata": {},
   "outputs": [],
   "source": [
    "# Export Data\n",
    "cluster_risk_metrics.to_csv('cluster_risk_metrics.csv', index=False)"
   ]
  },
  {
   "cell_type": "markdown",
   "id": "e62fb2c4-95bf-444d-b366-ec50e622913f",
   "metadata": {},
   "source": [
    "**Verify Data**"
   ]
  },
  {
   "cell_type": "code",
   "execution_count": 159,
   "id": "61405392-2811-48f6-ac9c-66c44fbb37aa",
   "metadata": {
    "tags": []
   },
   "outputs": [
    {
     "name": "stdout",
     "output_type": "stream",
     "text": [
      "Data loaded from 'cluster_risk_metrics.pkl'\n"
     ]
    },
    {
     "data": {
      "text/html": [
       "<div>\n",
       "<style scoped>\n",
       "    .dataframe tbody tr th:only-of-type {\n",
       "        vertical-align: middle;\n",
       "    }\n",
       "\n",
       "    .dataframe tbody tr th {\n",
       "        vertical-align: top;\n",
       "    }\n",
       "\n",
       "    .dataframe thead th {\n",
       "        text-align: right;\n",
       "    }\n",
       "</style>\n",
       "<table border=\"1\" class=\"dataframe\">\n",
       "  <thead>\n",
       "    <tr style=\"text-align: right;\">\n",
       "      <th></th>\n",
       "      <th>Community ID</th>\n",
       "      <th>Total CVEs</th>\n",
       "      <th>CVE List</th>\n",
       "      <th>Num_Releases</th>\n",
       "      <th>Average Severity Score</th>\n",
       "      <th>Normalized Total CVEs</th>\n",
       "      <th>Average Freshness (Days)</th>\n",
       "      <th>Average Popularity</th>\n",
       "      <th>Average Speed (Days)</th>\n",
       "    </tr>\n",
       "  </thead>\n",
       "  <tbody>\n",
       "    <tr>\n",
       "      <th>0</th>\n",
       "      <td>0</td>\n",
       "      <td>NaN</td>\n",
       "      <td>NaN</td>\n",
       "      <td>NaN</td>\n",
       "      <td>0.0</td>\n",
       "      <td>0.0</td>\n",
       "      <td>31.300386</td>\n",
       "      <td>0.0</td>\n",
       "      <td>0.003755</td>\n",
       "    </tr>\n",
       "    <tr>\n",
       "      <th>1</th>\n",
       "      <td>1</td>\n",
       "      <td>NaN</td>\n",
       "      <td>NaN</td>\n",
       "      <td>NaN</td>\n",
       "      <td>0.0</td>\n",
       "      <td>0.0</td>\n",
       "      <td>195.021071</td>\n",
       "      <td>0.0</td>\n",
       "      <td>0.001709</td>\n",
       "    </tr>\n",
       "    <tr>\n",
       "      <th>2</th>\n",
       "      <td>2</td>\n",
       "      <td>NaN</td>\n",
       "      <td>NaN</td>\n",
       "      <td>NaN</td>\n",
       "      <td>0.0</td>\n",
       "      <td>0.0</td>\n",
       "      <td>0.000000</td>\n",
       "      <td>0.0</td>\n",
       "      <td>0.000000</td>\n",
       "    </tr>\n",
       "    <tr>\n",
       "      <th>3</th>\n",
       "      <td>3</td>\n",
       "      <td>NaN</td>\n",
       "      <td>NaN</td>\n",
       "      <td>NaN</td>\n",
       "      <td>0.0</td>\n",
       "      <td>0.0</td>\n",
       "      <td>0.000000</td>\n",
       "      <td>0.0</td>\n",
       "      <td>0.000000</td>\n",
       "    </tr>\n",
       "    <tr>\n",
       "      <th>4</th>\n",
       "      <td>4</td>\n",
       "      <td>NaN</td>\n",
       "      <td>NaN</td>\n",
       "      <td>NaN</td>\n",
       "      <td>0.0</td>\n",
       "      <td>0.0</td>\n",
       "      <td>0.000000</td>\n",
       "      <td>0.0</td>\n",
       "      <td>0.000000</td>\n",
       "    </tr>\n",
       "  </tbody>\n",
       "</table>\n",
       "</div>"
      ],
      "text/plain": [
       "   Community ID  Total CVEs CVE List  Num_Releases  Average Severity Score  \\\n",
       "0             0         NaN      NaN           NaN                     0.0   \n",
       "1             1         NaN      NaN           NaN                     0.0   \n",
       "2             2         NaN      NaN           NaN                     0.0   \n",
       "3             3         NaN      NaN           NaN                     0.0   \n",
       "4             4         NaN      NaN           NaN                     0.0   \n",
       "\n",
       "   Normalized Total CVEs  Average Freshness (Days)  Average Popularity  \\\n",
       "0                    0.0                 31.300386                 0.0   \n",
       "1                    0.0                195.021071                 0.0   \n",
       "2                    0.0                  0.000000                 0.0   \n",
       "3                    0.0                  0.000000                 0.0   \n",
       "4                    0.0                  0.000000                 0.0   \n",
       "\n",
       "   Average Speed (Days)  \n",
       "0              0.003755  \n",
       "1              0.001709  \n",
       "2              0.000000  \n",
       "3              0.000000  \n",
       "4              0.000000  "
      ]
     },
     "execution_count": 159,
     "metadata": {},
     "output_type": "execute_result"
    }
   ],
   "source": [
    "cluster_risk_metrics = pd.read_pickle('cluster_risk_metrics.pkl')\n",
    "print(\"Data loaded from 'cluster_risk_metrics.pkl'\")\n",
    "\n",
    "# Print the first few lines of the DataFrame\n",
    "cluster_risk_metrics.head()"
   ]
  },
  {
   "cell_type": "markdown",
   "id": "f75f301e-a606-4130-b814-ebaa0015b7ad",
   "metadata": {},
   "source": [
    "# Principal Component Analysis (PCA)"
   ]
  },
  {
   "cell_type": "markdown",
   "id": "f84185b9-5502-4d7e-8661-3910737e6db8",
   "metadata": {},
   "source": [
    "**Objective: Use PCA to derive weights for your risk metrics and compute a Composite Risk Score.**  \n",
    "**Metrics to Include:**  \n",
    "* Normalized Total CVEs\n",
    "* Average Severity Score\n",
    "* Average Days Since Last Update\n",
    "* Average Freshness (Days)\n",
    "* Average Popularity\n",
    "* Average Speed (Days)"
   ]
  },
  {
   "cell_type": "markdown",
   "id": "41a5e6a8-2b38-4447-aa9c-c7ddacb9c18b",
   "metadata": {},
   "source": [
    "## Load and Prepare the Data"
   ]
  },
  {
   "cell_type": "markdown",
   "id": "fb52caf8-637b-45b1-8c2d-b7638dfba073",
   "metadata": {},
   "source": [
    "**Load merged DataFrame**"
   ]
  },
  {
   "cell_type": "code",
   "execution_count": 161,
   "id": "eda78a38-a31c-4cf4-906b-8194b4713541",
   "metadata": {
    "tags": []
   },
   "outputs": [
    {
     "name": "stdout",
     "output_type": "stream",
     "text": [
      "Data loaded from 'cluster_risk_metrics.pkl'\n"
     ]
    },
    {
     "data": {
      "text/html": [
       "<div>\n",
       "<style scoped>\n",
       "    .dataframe tbody tr th:only-of-type {\n",
       "        vertical-align: middle;\n",
       "    }\n",
       "\n",
       "    .dataframe tbody tr th {\n",
       "        vertical-align: top;\n",
       "    }\n",
       "\n",
       "    .dataframe thead th {\n",
       "        text-align: right;\n",
       "    }\n",
       "</style>\n",
       "<table border=\"1\" class=\"dataframe\">\n",
       "  <thead>\n",
       "    <tr style=\"text-align: right;\">\n",
       "      <th></th>\n",
       "      <th>Community ID</th>\n",
       "      <th>Total CVEs</th>\n",
       "      <th>CVE List</th>\n",
       "      <th>Num_Releases</th>\n",
       "      <th>Average Severity Score</th>\n",
       "      <th>Normalized Total CVEs</th>\n",
       "      <th>Average Freshness (Days)</th>\n",
       "      <th>Average Popularity</th>\n",
       "      <th>Average Speed (Days)</th>\n",
       "    </tr>\n",
       "  </thead>\n",
       "  <tbody>\n",
       "    <tr>\n",
       "      <th>0</th>\n",
       "      <td>0</td>\n",
       "      <td>NaN</td>\n",
       "      <td>NaN</td>\n",
       "      <td>NaN</td>\n",
       "      <td>0.0</td>\n",
       "      <td>0.0</td>\n",
       "      <td>31.300386</td>\n",
       "      <td>0.0</td>\n",
       "      <td>0.003755</td>\n",
       "    </tr>\n",
       "    <tr>\n",
       "      <th>1</th>\n",
       "      <td>1</td>\n",
       "      <td>NaN</td>\n",
       "      <td>NaN</td>\n",
       "      <td>NaN</td>\n",
       "      <td>0.0</td>\n",
       "      <td>0.0</td>\n",
       "      <td>195.021071</td>\n",
       "      <td>0.0</td>\n",
       "      <td>0.001709</td>\n",
       "    </tr>\n",
       "    <tr>\n",
       "      <th>2</th>\n",
       "      <td>2</td>\n",
       "      <td>NaN</td>\n",
       "      <td>NaN</td>\n",
       "      <td>NaN</td>\n",
       "      <td>0.0</td>\n",
       "      <td>0.0</td>\n",
       "      <td>0.000000</td>\n",
       "      <td>0.0</td>\n",
       "      <td>0.000000</td>\n",
       "    </tr>\n",
       "    <tr>\n",
       "      <th>3</th>\n",
       "      <td>3</td>\n",
       "      <td>NaN</td>\n",
       "      <td>NaN</td>\n",
       "      <td>NaN</td>\n",
       "      <td>0.0</td>\n",
       "      <td>0.0</td>\n",
       "      <td>0.000000</td>\n",
       "      <td>0.0</td>\n",
       "      <td>0.000000</td>\n",
       "    </tr>\n",
       "    <tr>\n",
       "      <th>4</th>\n",
       "      <td>4</td>\n",
       "      <td>NaN</td>\n",
       "      <td>NaN</td>\n",
       "      <td>NaN</td>\n",
       "      <td>0.0</td>\n",
       "      <td>0.0</td>\n",
       "      <td>0.000000</td>\n",
       "      <td>0.0</td>\n",
       "      <td>0.000000</td>\n",
       "    </tr>\n",
       "  </tbody>\n",
       "</table>\n",
       "</div>"
      ],
      "text/plain": [
       "   Community ID  Total CVEs CVE List  Num_Releases  Average Severity Score  \\\n",
       "0             0         NaN      NaN           NaN                     0.0   \n",
       "1             1         NaN      NaN           NaN                     0.0   \n",
       "2             2         NaN      NaN           NaN                     0.0   \n",
       "3             3         NaN      NaN           NaN                     0.0   \n",
       "4             4         NaN      NaN           NaN                     0.0   \n",
       "\n",
       "   Normalized Total CVEs  Average Freshness (Days)  Average Popularity  \\\n",
       "0                    0.0                 31.300386                 0.0   \n",
       "1                    0.0                195.021071                 0.0   \n",
       "2                    0.0                  0.000000                 0.0   \n",
       "3                    0.0                  0.000000                 0.0   \n",
       "4                    0.0                  0.000000                 0.0   \n",
       "\n",
       "   Average Speed (Days)  \n",
       "0              0.003755  \n",
       "1              0.001709  \n",
       "2              0.000000  \n",
       "3              0.000000  \n",
       "4              0.000000  "
      ]
     },
     "execution_count": 161,
     "metadata": {},
     "output_type": "execute_result"
    }
   ],
   "source": [
    "# Load the final merged DataFrame\n",
    "cluster_risk_metrics = pd.read_pickle('cluster_risk_metrics.pkl')\n",
    "print(\"Data loaded from 'cluster_risk_metrics.pkl'\")\n",
    "cluster_risk_metrics.head()\n"
   ]
  },
  {
   "cell_type": "markdown",
   "id": "3857c808-a559-41fe-8b88-597e8611ec6c",
   "metadata": {},
   "source": [
    "### Standardize the Metrics Using StandardScaler"
   ]
  },
  {
   "cell_type": "code",
   "execution_count": 163,
   "id": "f0c4d54e-790b-4012-931e-5be468ab3d2f",
   "metadata": {},
   "outputs": [
    {
     "data": {
      "text/html": [
       "<div>\n",
       "<style scoped>\n",
       "    .dataframe tbody tr th:only-of-type {\n",
       "        vertical-align: middle;\n",
       "    }\n",
       "\n",
       "    .dataframe tbody tr th {\n",
       "        vertical-align: top;\n",
       "    }\n",
       "\n",
       "    .dataframe thead th {\n",
       "        text-align: right;\n",
       "    }\n",
       "</style>\n",
       "<table border=\"1\" class=\"dataframe\">\n",
       "  <thead>\n",
       "    <tr style=\"text-align: right;\">\n",
       "      <th></th>\n",
       "      <th>Community ID</th>\n",
       "      <th>Total CVEs</th>\n",
       "      <th>Num_Releases</th>\n",
       "      <th>Average Severity Score</th>\n",
       "      <th>Normalized Total CVEs</th>\n",
       "      <th>Average Freshness (Days)</th>\n",
       "      <th>Average Popularity</th>\n",
       "      <th>Average Speed (Days)</th>\n",
       "    </tr>\n",
       "  </thead>\n",
       "  <tbody>\n",
       "    <tr>\n",
       "      <th>0</th>\n",
       "      <td>0</td>\n",
       "      <td>NaN</td>\n",
       "      <td>NaN</td>\n",
       "      <td>0.0</td>\n",
       "      <td>0.0</td>\n",
       "      <td>31.300386</td>\n",
       "      <td>0.0</td>\n",
       "      <td>0.003755</td>\n",
       "    </tr>\n",
       "    <tr>\n",
       "      <th>1</th>\n",
       "      <td>1</td>\n",
       "      <td>NaN</td>\n",
       "      <td>NaN</td>\n",
       "      <td>0.0</td>\n",
       "      <td>0.0</td>\n",
       "      <td>195.021071</td>\n",
       "      <td>0.0</td>\n",
       "      <td>0.001709</td>\n",
       "    </tr>\n",
       "    <tr>\n",
       "      <th>2</th>\n",
       "      <td>2</td>\n",
       "      <td>NaN</td>\n",
       "      <td>NaN</td>\n",
       "      <td>0.0</td>\n",
       "      <td>0.0</td>\n",
       "      <td>0.000000</td>\n",
       "      <td>0.0</td>\n",
       "      <td>0.000000</td>\n",
       "    </tr>\n",
       "    <tr>\n",
       "      <th>3</th>\n",
       "      <td>3</td>\n",
       "      <td>NaN</td>\n",
       "      <td>NaN</td>\n",
       "      <td>0.0</td>\n",
       "      <td>0.0</td>\n",
       "      <td>0.000000</td>\n",
       "      <td>0.0</td>\n",
       "      <td>0.000000</td>\n",
       "    </tr>\n",
       "    <tr>\n",
       "      <th>4</th>\n",
       "      <td>4</td>\n",
       "      <td>NaN</td>\n",
       "      <td>NaN</td>\n",
       "      <td>0.0</td>\n",
       "      <td>0.0</td>\n",
       "      <td>0.000000</td>\n",
       "      <td>0.0</td>\n",
       "      <td>0.000000</td>\n",
       "    </tr>\n",
       "  </tbody>\n",
       "</table>\n",
       "</div>"
      ],
      "text/plain": [
       "   Community ID  Total CVEs  Num_Releases  Average Severity Score  \\\n",
       "0             0         NaN           NaN                     0.0   \n",
       "1             1         NaN           NaN                     0.0   \n",
       "2             2         NaN           NaN                     0.0   \n",
       "3             3         NaN           NaN                     0.0   \n",
       "4             4         NaN           NaN                     0.0   \n",
       "\n",
       "   Normalized Total CVEs  Average Freshness (Days)  Average Popularity  \\\n",
       "0                    0.0                 31.300386                 0.0   \n",
       "1                    0.0                195.021071                 0.0   \n",
       "2                    0.0                  0.000000                 0.0   \n",
       "3                    0.0                  0.000000                 0.0   \n",
       "4                    0.0                  0.000000                 0.0   \n",
       "\n",
       "   Average Speed (Days)  \n",
       "0              0.003755  \n",
       "1              0.001709  \n",
       "2              0.000000  \n",
       "3              0.000000  \n",
       "4              0.000000  "
      ]
     },
     "execution_count": 163,
     "metadata": {},
     "output_type": "execute_result"
    }
   ],
   "source": [
    "# Remove CVE List from Data, This is not needed for PCA\n",
    "cluster_risk_metrics = cluster_risk_metrics.drop('CVE List', axis=1)\n",
    "cluster_risk_metrics.head()"
   ]
  },
  {
   "cell_type": "markdown",
   "id": "5e3bf009-671b-4824-8ad6-3e1fd14d4828",
   "metadata": {},
   "source": [
    "### Perform PCA"
   ]
  },
  {
   "cell_type": "code",
   "execution_count": 166,
   "id": "77bc4e25-011b-4da9-b251-15f2d8259d90",
   "metadata": {},
   "outputs": [
    {
     "name": "stdout",
     "output_type": "stream",
     "text": [
      "\n",
      "Weights derived from PC1 loadings:\n",
      "Normalized Total CVEs       0.376538\n",
      "Average Severity Score      0.383546\n",
      "Average Freshness (Days)    0.068776\n",
      "Average Popularity          0.165592\n",
      "Average Speed (Days)        0.005547\n",
      "dtype: float64\n"
     ]
    }
   ],
   "source": [
    "# Define metrics to include in PCA\n",
    "metrics = [\n",
    "    'Normalized Total CVEs',\n",
    "    'Average Severity Score',\n",
    "    # 'Average Days Since Last Update',\n",
    "    'Average Freshness (Days)',\n",
    "    'Average Popularity',\n",
    "    'Average Speed (Days)'\n",
    "]\n",
    "\n",
    "# Ensure metrics are numeric and handle missing values\n",
    "cluster_risk_metrics[metrics] = cluster_risk_metrics[metrics].apply(pd.to_numeric, errors='coerce')\n",
    "cluster_risk_metrics[metrics] = cluster_risk_metrics[metrics].fillna(0)\n",
    "\n",
    "# Standardize the metrics\n",
    "scaler = StandardScaler()\n",
    "X = scaler.fit_transform(cluster_risk_metrics[metrics])\n",
    "\n",
    "# Convert back to DataFrame for easier handling\n",
    "X = pd.DataFrame(X, columns=metrics)\n",
    "\n",
    "# Initialize and fit PCA\n",
    "pca = PCA(n_components=len(metrics))\n",
    "pca.fit(X)\n",
    "\n",
    "# Extract the loadings for PC1\n",
    "pc1_loadings = pd.Series(pca.components_[0], index=metrics)\n",
    "\n",
    "# Take the absolute values of loadings as weights\n",
    "weights = pc1_loadings.abs()\n",
    "\n",
    "# Normalize the weights to sum to 1\n",
    "weights = weights / weights.sum()\n",
    "\n",
    "print(\"\\nWeights derived from PC1 loadings:\")\n",
    "print(weights)\n"
   ]
  },
  {
   "cell_type": "markdown",
   "id": "c62d8f72-e5b5-429f-92b6-bb7ce01c943c",
   "metadata": {},
   "source": [
    "# Composite Risk Score"
   ]
  },
  {
   "cell_type": "markdown",
   "id": "291e0f93-a50a-4412-a602-d42e543d34a9",
   "metadata": {},
   "source": [
    "## Calculate Weights"
   ]
  },
  {
   "cell_type": "markdown",
   "id": "aa412a1a-b24a-41bb-9b22-a618b29b543e",
   "metadata": {},
   "source": [
    "### Apply PCA Weights to Calculate the Composite Risk Score"
   ]
  },
  {
   "cell_type": "markdown",
   "id": "5d3c93e0-ee5e-4ff4-98ee-6f52a6e7ccbb",
   "metadata": {},
   "source": [
    "**Calculate Weighted Metrics**"
   ]
  },
  {
   "cell_type": "code",
   "execution_count": 172,
   "id": "6b794964-aaae-47d6-bbd2-913a41fb4303",
   "metadata": {
    "tags": []
   },
   "outputs": [],
   "source": [
    "# Multiply each standardized metric by its weight\n",
    "weighted_metrics = X.multiply(weights, axis=1)\n"
   ]
  },
  {
   "cell_type": "markdown",
   "id": "b9668380-281d-4700-a16d-888552d90a83",
   "metadata": {},
   "source": [
    "**Calculate the Composite Risk Score**"
   ]
  },
  {
   "cell_type": "code",
   "execution_count": 176,
   "id": "bd0bf158-9889-4b44-a6ea-4bb668148c8c",
   "metadata": {
    "tags": []
   },
   "outputs": [
    {
     "data": {
      "text/html": [
       "<div>\n",
       "<style scoped>\n",
       "    .dataframe tbody tr th:only-of-type {\n",
       "        vertical-align: middle;\n",
       "    }\n",
       "\n",
       "    .dataframe tbody tr th {\n",
       "        vertical-align: top;\n",
       "    }\n",
       "\n",
       "    .dataframe thead th {\n",
       "        text-align: right;\n",
       "    }\n",
       "</style>\n",
       "<table border=\"1\" class=\"dataframe\">\n",
       "  <thead>\n",
       "    <tr style=\"text-align: right;\">\n",
       "      <th></th>\n",
       "      <th>Community ID</th>\n",
       "      <th>Total CVEs</th>\n",
       "      <th>Num_Releases</th>\n",
       "      <th>Average Severity Score</th>\n",
       "      <th>Normalized Total CVEs</th>\n",
       "      <th>Average Freshness (Days)</th>\n",
       "      <th>Average Popularity</th>\n",
       "      <th>Average Speed (Days)</th>\n",
       "      <th>Risk Score</th>\n",
       "    </tr>\n",
       "  </thead>\n",
       "  <tbody>\n",
       "    <tr>\n",
       "      <th>0</th>\n",
       "      <td>0</td>\n",
       "      <td>NaN</td>\n",
       "      <td>NaN</td>\n",
       "      <td>0.0</td>\n",
       "      <td>0.0</td>\n",
       "      <td>31.300386</td>\n",
       "      <td>0.0</td>\n",
       "      <td>0.003755</td>\n",
       "      <td>-0.072326</td>\n",
       "    </tr>\n",
       "    <tr>\n",
       "      <th>1</th>\n",
       "      <td>1</td>\n",
       "      <td>NaN</td>\n",
       "      <td>NaN</td>\n",
       "      <td>0.0</td>\n",
       "      <td>0.0</td>\n",
       "      <td>195.021071</td>\n",
       "      <td>0.0</td>\n",
       "      <td>0.001709</td>\n",
       "      <td>-0.047453</td>\n",
       "    </tr>\n",
       "    <tr>\n",
       "      <th>2</th>\n",
       "      <td>2</td>\n",
       "      <td>NaN</td>\n",
       "      <td>NaN</td>\n",
       "      <td>0.0</td>\n",
       "      <td>0.0</td>\n",
       "      <td>0.000000</td>\n",
       "      <td>0.0</td>\n",
       "      <td>0.000000</td>\n",
       "      <td>-0.077116</td>\n",
       "    </tr>\n",
       "    <tr>\n",
       "      <th>3</th>\n",
       "      <td>3</td>\n",
       "      <td>NaN</td>\n",
       "      <td>NaN</td>\n",
       "      <td>0.0</td>\n",
       "      <td>0.0</td>\n",
       "      <td>0.000000</td>\n",
       "      <td>0.0</td>\n",
       "      <td>0.000000</td>\n",
       "      <td>-0.077116</td>\n",
       "    </tr>\n",
       "    <tr>\n",
       "      <th>4</th>\n",
       "      <td>4</td>\n",
       "      <td>NaN</td>\n",
       "      <td>NaN</td>\n",
       "      <td>0.0</td>\n",
       "      <td>0.0</td>\n",
       "      <td>0.000000</td>\n",
       "      <td>0.0</td>\n",
       "      <td>0.000000</td>\n",
       "      <td>-0.077116</td>\n",
       "    </tr>\n",
       "  </tbody>\n",
       "</table>\n",
       "</div>"
      ],
      "text/plain": [
       "   Community ID  Total CVEs  Num_Releases  Average Severity Score  \\\n",
       "0             0         NaN           NaN                     0.0   \n",
       "1             1         NaN           NaN                     0.0   \n",
       "2             2         NaN           NaN                     0.0   \n",
       "3             3         NaN           NaN                     0.0   \n",
       "4             4         NaN           NaN                     0.0   \n",
       "\n",
       "   Normalized Total CVEs  Average Freshness (Days)  Average Popularity  \\\n",
       "0                    0.0                 31.300386                 0.0   \n",
       "1                    0.0                195.021071                 0.0   \n",
       "2                    0.0                  0.000000                 0.0   \n",
       "3                    0.0                  0.000000                 0.0   \n",
       "4                    0.0                  0.000000                 0.0   \n",
       "\n",
       "   Average Speed (Days)  Risk Score  \n",
       "0              0.003755   -0.072326  \n",
       "1              0.001709   -0.047453  \n",
       "2              0.000000   -0.077116  \n",
       "3              0.000000   -0.077116  \n",
       "4              0.000000   -0.077116  "
      ]
     },
     "execution_count": 176,
     "metadata": {},
     "output_type": "execute_result"
    }
   ],
   "source": [
    "# Sum the weighted metrics to get the risk score\n",
    "cluster_risk_metrics_weighted = cluster_risk_metrics\n",
    "cluster_risk_metrics_weighted['Risk Score'] = weighted_metrics.sum(axis=1)\n",
    "\n",
    "# Export for viewing\n",
    "cluster_risk_metrics_weighted.to_csv('temp1.csv', index=False)\n",
    "\n",
    "# Display\n",
    "cluster_risk_metrics_weighted.head()"
   ]
  },
  {
   "cell_type": "markdown",
   "id": "8109e417-046e-4ce0-9aec-08cf63fd6b78",
   "metadata": {},
   "source": [
    "### Rescale the Risk Scores"
   ]
  },
  {
   "cell_type": "markdown",
   "id": "b5ef5317-8ea3-4acb-b75d-7ab2de42eb08",
   "metadata": {},
   "source": [
    "**Make risk scores more inteprerable (between 0 and 1)**"
   ]
  },
  {
   "cell_type": "code",
   "execution_count": 103,
   "id": "d3822d9e-fde1-474d-9cc9-a6e3a90f0b5f",
   "metadata": {
    "tags": []
   },
   "outputs": [],
   "source": [
    "# # Rescale Risk Scores to range [0, 1]\n",
    "# scaler = MinMaxScaler()\n",
    "# cluster_risk_metrics_weighted['Risk Score'] = scaler.fit_transform(cluster_risk_metrics_weighted[['Risk Score']])\n",
    "\n"
   ]
  },
  {
   "cell_type": "code",
   "execution_count": 178,
   "id": "6e185c3c-c803-45b0-baa3-3b3dabf05b48",
   "metadata": {},
   "outputs": [],
   "source": [
    "# Export Data\n",
    "cluster_risk_metrics_weighted.to_pickle('cluster_risk_metrics_weighted.pkl')"
   ]
  },
  {
   "cell_type": "markdown",
   "id": "155b889f-b329-47c9-b7cb-2fd53537a4d0",
   "metadata": {},
   "source": [
    "## Analyze and Interpret the Results"
   ]
  },
  {
   "cell_type": "markdown",
   "id": "d2b71175-1d3a-4b2a-9250-4be2f7fc578f",
   "metadata": {},
   "source": [
    "**Sort and Display Top High-Risk Clusters**"
   ]
  },
  {
   "cell_type": "code",
   "execution_count": 5,
   "id": "7112d4c1-450c-42a0-b383-866a35a9dd23",
   "metadata": {},
   "outputs": [
    {
     "data": {
      "text/html": [
       "<div>\n",
       "<style scoped>\n",
       "    .dataframe tbody tr th:only-of-type {\n",
       "        vertical-align: middle;\n",
       "    }\n",
       "\n",
       "    .dataframe tbody tr th {\n",
       "        vertical-align: top;\n",
       "    }\n",
       "\n",
       "    .dataframe thead th {\n",
       "        text-align: right;\n",
       "    }\n",
       "</style>\n",
       "<table border=\"1\" class=\"dataframe\">\n",
       "  <thead>\n",
       "    <tr style=\"text-align: right;\">\n",
       "      <th></th>\n",
       "      <th>Community ID</th>\n",
       "      <th>Total CVEs</th>\n",
       "      <th>Num_Releases</th>\n",
       "      <th>Average Severity Score</th>\n",
       "      <th>Normalized Total CVEs</th>\n",
       "      <th>Average Freshness (Days)</th>\n",
       "      <th>Average Popularity</th>\n",
       "      <th>Average Speed (Days)</th>\n",
       "      <th>Risk Score</th>\n",
       "    </tr>\n",
       "  </thead>\n",
       "  <tbody>\n",
       "    <tr>\n",
       "      <th>0</th>\n",
       "      <td>0</td>\n",
       "      <td>NaN</td>\n",
       "      <td>NaN</td>\n",
       "      <td>0.0</td>\n",
       "      <td>0.0</td>\n",
       "      <td>31.300386</td>\n",
       "      <td>0.0</td>\n",
       "      <td>0.003755</td>\n",
       "      <td>-0.072326</td>\n",
       "    </tr>\n",
       "    <tr>\n",
       "      <th>1</th>\n",
       "      <td>1</td>\n",
       "      <td>NaN</td>\n",
       "      <td>NaN</td>\n",
       "      <td>0.0</td>\n",
       "      <td>0.0</td>\n",
       "      <td>195.021071</td>\n",
       "      <td>0.0</td>\n",
       "      <td>0.001709</td>\n",
       "      <td>-0.047453</td>\n",
       "    </tr>\n",
       "    <tr>\n",
       "      <th>2</th>\n",
       "      <td>2</td>\n",
       "      <td>NaN</td>\n",
       "      <td>NaN</td>\n",
       "      <td>0.0</td>\n",
       "      <td>0.0</td>\n",
       "      <td>0.000000</td>\n",
       "      <td>0.0</td>\n",
       "      <td>0.000000</td>\n",
       "      <td>-0.077116</td>\n",
       "    </tr>\n",
       "    <tr>\n",
       "      <th>3</th>\n",
       "      <td>3</td>\n",
       "      <td>NaN</td>\n",
       "      <td>NaN</td>\n",
       "      <td>0.0</td>\n",
       "      <td>0.0</td>\n",
       "      <td>0.000000</td>\n",
       "      <td>0.0</td>\n",
       "      <td>0.000000</td>\n",
       "      <td>-0.077116</td>\n",
       "    </tr>\n",
       "    <tr>\n",
       "      <th>4</th>\n",
       "      <td>4</td>\n",
       "      <td>NaN</td>\n",
       "      <td>NaN</td>\n",
       "      <td>0.0</td>\n",
       "      <td>0.0</td>\n",
       "      <td>0.000000</td>\n",
       "      <td>0.0</td>\n",
       "      <td>0.000000</td>\n",
       "      <td>-0.077116</td>\n",
       "    </tr>\n",
       "  </tbody>\n",
       "</table>\n",
       "</div>"
      ],
      "text/plain": [
       "   Community ID  Total CVEs  Num_Releases  Average Severity Score  \\\n",
       "0             0         NaN           NaN                     0.0   \n",
       "1             1         NaN           NaN                     0.0   \n",
       "2             2         NaN           NaN                     0.0   \n",
       "3             3         NaN           NaN                     0.0   \n",
       "4             4         NaN           NaN                     0.0   \n",
       "\n",
       "   Normalized Total CVEs  Average Freshness (Days)  Average Popularity  \\\n",
       "0                    0.0                 31.300386                 0.0   \n",
       "1                    0.0                195.021071                 0.0   \n",
       "2                    0.0                  0.000000                 0.0   \n",
       "3                    0.0                  0.000000                 0.0   \n",
       "4                    0.0                  0.000000                 0.0   \n",
       "\n",
       "   Average Speed (Days)  Risk Score  \n",
       "0              0.003755   -0.072326  \n",
       "1              0.001709   -0.047453  \n",
       "2              0.000000   -0.077116  \n",
       "3              0.000000   -0.077116  \n",
       "4              0.000000   -0.077116  "
      ]
     },
     "execution_count": 5,
     "metadata": {},
     "output_type": "execute_result"
    }
   ],
   "source": [
    "# Load Data and Display\n",
    "cluster_risk_metrics_weighted = pd.read_pickle('cluster_risk_metrics_weighted.pkl')\n",
    "cluster_risk_metrics_weighted.head()"
   ]
  },
  {
   "cell_type": "markdown",
   "id": "d3afe583-d58f-4710-b90f-d1b35b6882d6",
   "metadata": {},
   "source": [
    "**Visualize the Distribution of Risk Scores**"
   ]
  },
  {
   "cell_type": "code",
   "execution_count": 22,
   "id": "d1b0dcf8-921e-4bdc-8648-e8a3e015c2a7",
   "metadata": {
    "tags": []
   },
   "outputs": [
    {
     "data": {
      "image/png": "[encoded data removed]",
      "text/plain": [
       "<Figure size 400x300 with 1 Axes>"
      ]
     },
     "metadata": {},
     "output_type": "display_data"
    }
   ],
   "source": [
    "# Plot the distribution of Risk Scores\n",
    "\n",
    "# Filter to focus on risk clusters (Risk Score > 0.5)\n",
    "risk_clusters = cluster_risk_metrics_weighted[cluster_risk_metrics_weighted['Risk Score']>0.01]\n",
    "\n",
    "plt.figure(figsize=(4, 3))\n",
    "plt.hist(risk_clusters['Risk Score'], bins=50, range=(0, 1), color='orange')\n",
    "plt.xlabel('Risk Score')\n",
    "plt.ylabel('Number of Clusters')\n",
    "# plt.title('Distribution of Risk Scores for High-Risk Clusters')\n",
    "plt.savefig('cluster_risk_distribution.pdf', bbox_inches='tight')\n",
    "plt.show()\n"
   ]
  },
  {
   "cell_type": "markdown",
   "id": "3150f66f-d297-4853-9169-9ad4baf029d4",
   "metadata": {},
   "source": [
    "**Save DataFrame**"
   ]
  },
  {
   "cell_type": "code",
   "execution_count": 188,
   "id": "3222e54f-5041-4380-962e-8466e5442326",
   "metadata": {
    "tags": []
   },
   "outputs": [
    {
     "name": "stdout",
     "output_type": "stream",
     "text": [
      "Updated data saved to 'cluster_risk_metrics_pca.pkl'\n"
     ]
    }
   ],
   "source": [
    "# Save the updated DataFrame\n",
    "cluster_risk_metrics_weighted.to_pickle('cluster_risk_metrics_pca.pkl')\n",
    "print(\"Updated data saved to 'cluster_risk_metrics_pca.pkl'\")\n",
    "\n"
   ]
  },
  {
   "cell_type": "code",
   "execution_count": 190,
   "id": "8fb08490-271c-462c-8fb4-e66a1d7073f3",
   "metadata": {},
   "outputs": [
    {
     "data": {
      "text/html": [
       "<div>\n",
       "<style scoped>\n",
       "    .dataframe tbody tr th:only-of-type {\n",
       "        vertical-align: middle;\n",
       "    }\n",
       "\n",
       "    .dataframe tbody tr th {\n",
       "        vertical-align: top;\n",
       "    }\n",
       "\n",
       "    .dataframe thead th {\n",
       "        text-align: right;\n",
       "    }\n",
       "</style>\n",
       "<table border=\"1\" class=\"dataframe\">\n",
       "  <thead>\n",
       "    <tr style=\"text-align: right;\">\n",
       "      <th></th>\n",
       "      <th>Community ID</th>\n",
       "      <th>Total CVEs</th>\n",
       "      <th>Num_Releases</th>\n",
       "      <th>Average Severity Score</th>\n",
       "      <th>Normalized Total CVEs</th>\n",
       "      <th>Average Freshness (Days)</th>\n",
       "      <th>Average Popularity</th>\n",
       "      <th>Average Speed (Days)</th>\n",
       "      <th>Risk Score</th>\n",
       "    </tr>\n",
       "  </thead>\n",
       "  <tbody>\n",
       "    <tr>\n",
       "      <th>0</th>\n",
       "      <td>0</td>\n",
       "      <td>NaN</td>\n",
       "      <td>NaN</td>\n",
       "      <td>0.0</td>\n",
       "      <td>0.0</td>\n",
       "      <td>31.300386</td>\n",
       "      <td>0.0</td>\n",
       "      <td>0.003755</td>\n",
       "      <td>-0.072326</td>\n",
       "    </tr>\n",
       "    <tr>\n",
       "      <th>1</th>\n",
       "      <td>1</td>\n",
       "      <td>NaN</td>\n",
       "      <td>NaN</td>\n",
       "      <td>0.0</td>\n",
       "      <td>0.0</td>\n",
       "      <td>195.021071</td>\n",
       "      <td>0.0</td>\n",
       "      <td>0.001709</td>\n",
       "      <td>-0.047453</td>\n",
       "    </tr>\n",
       "    <tr>\n",
       "      <th>2</th>\n",
       "      <td>2</td>\n",
       "      <td>NaN</td>\n",
       "      <td>NaN</td>\n",
       "      <td>0.0</td>\n",
       "      <td>0.0</td>\n",
       "      <td>0.000000</td>\n",
       "      <td>0.0</td>\n",
       "      <td>0.000000</td>\n",
       "      <td>-0.077116</td>\n",
       "    </tr>\n",
       "    <tr>\n",
       "      <th>3</th>\n",
       "      <td>3</td>\n",
       "      <td>NaN</td>\n",
       "      <td>NaN</td>\n",
       "      <td>0.0</td>\n",
       "      <td>0.0</td>\n",
       "      <td>0.000000</td>\n",
       "      <td>0.0</td>\n",
       "      <td>0.000000</td>\n",
       "      <td>-0.077116</td>\n",
       "    </tr>\n",
       "    <tr>\n",
       "      <th>4</th>\n",
       "      <td>4</td>\n",
       "      <td>NaN</td>\n",
       "      <td>NaN</td>\n",
       "      <td>0.0</td>\n",
       "      <td>0.0</td>\n",
       "      <td>0.000000</td>\n",
       "      <td>0.0</td>\n",
       "      <td>0.000000</td>\n",
       "      <td>-0.077116</td>\n",
       "    </tr>\n",
       "  </tbody>\n",
       "</table>\n",
       "</div>"
      ],
      "text/plain": [
       "   Community ID  Total CVEs  Num_Releases  Average Severity Score  \\\n",
       "0             0         NaN           NaN                     0.0   \n",
       "1             1         NaN           NaN                     0.0   \n",
       "2             2         NaN           NaN                     0.0   \n",
       "3             3         NaN           NaN                     0.0   \n",
       "4             4         NaN           NaN                     0.0   \n",
       "\n",
       "   Normalized Total CVEs  Average Freshness (Days)  Average Popularity  \\\n",
       "0                    0.0                 31.300386                 0.0   \n",
       "1                    0.0                195.021071                 0.0   \n",
       "2                    0.0                  0.000000                 0.0   \n",
       "3                    0.0                  0.000000                 0.0   \n",
       "4                    0.0                  0.000000                 0.0   \n",
       "\n",
       "   Average Speed (Days)  Risk Score  \n",
       "0              0.003755   -0.072326  \n",
       "1              0.001709   -0.047453  \n",
       "2              0.000000   -0.077116  \n",
       "3              0.000000   -0.077116  \n",
       "4              0.000000   -0.077116  "
      ]
     },
     "execution_count": 190,
     "metadata": {},
     "output_type": "execute_result"
    }
   ],
   "source": [
    "# Load Cluster Risk Metrics into DataFrame\n",
    "cluster_risk_metrics_weighted = pd.read_pickle('cluster_risk_metrics_pca.pkl')\n",
    "cluster_risk_metrics_weighted.head()"
   ]
  },
  {
   "cell_type": "markdown",
   "id": "66647f78-5c90-479a-a2ac-8a89a6c568c0",
   "metadata": {},
   "source": [
    "**Get Cluster Size from Database then Save File for Future Work**"
   ]
  },
  {
   "cell_type": "code",
   "execution_count": 50,
   "id": "c39a245a-2cff-499f-b269-4d8f4429d8ed",
   "metadata": {},
   "outputs": [
    {
     "ename": "NameError",
     "evalue": "name 'execute_query' is not defined",
     "output_type": "error",
     "traceback": [
      "\u001b[1;31m---------------------------------------------------------------------------\u001b[0m",
      "\u001b[1;31mNameError\u001b[0m                                 Traceback (most recent call last)",
      "Cell \u001b[1;32mIn[50], line 8\u001b[0m\n\u001b[0;32m      1\u001b[0m \u001b[38;5;66;03m# Query to get cluster sizes\u001b[39;00m\n\u001b[0;32m      2\u001b[0m cluster_sizes_query \u001b[38;5;241m=\u001b[39m \u001b[38;5;124mf\u001b[39m\u001b[38;5;124m\"\"\"\u001b[39m\n\u001b[0;32m      3\u001b[0m \u001b[38;5;124mMATCH (n)\u001b[39m\n\u001b[0;32m      4\u001b[0m \u001b[38;5;124mWHERE n.communityId IS NOT NULL\u001b[39m\n\u001b[0;32m      5\u001b[0m \u001b[38;5;124mRETURN n.communityId AS communityId, count(*) AS size\u001b[39m\n\u001b[0;32m      6\u001b[0m \u001b[38;5;124mORDER BY size DESC\u001b[39m\n\u001b[0;32m      7\u001b[0m \u001b[38;5;124m\"\"\"\u001b[39m\n\u001b[1;32m----> 8\u001b[0m cluster_sizes \u001b[38;5;241m=\u001b[39m execute_query(cluster_sizes_query)\n\u001b[0;32m      9\u001b[0m cluster_sizes_df \u001b[38;5;241m=\u001b[39m pd\u001b[38;5;241m.\u001b[39mDataFrame(cluster_sizes)\n\u001b[0;32m     10\u001b[0m cluster_sizes_df\u001b[38;5;241m.\u001b[39mrename(columns\u001b[38;5;241m=\u001b[39m{\u001b[38;5;124m'\u001b[39m\u001b[38;5;124mcommunityId\u001b[39m\u001b[38;5;124m'\u001b[39m:\u001b[38;5;124m'\u001b[39m\u001b[38;5;124mCommunity ID\u001b[39m\u001b[38;5;124m'\u001b[39m}, inplace\u001b[38;5;241m=\u001b[39m\u001b[38;5;28;01mTrue\u001b[39;00m)\n",
      "\u001b[1;31mNameError\u001b[0m: name 'execute_query' is not defined"
     ]
    }
   ],
   "source": [
    "# Query to get cluster sizes\n",
    "cluster_sizes_query = f\"\"\"\n",
    "MATCH (n)\n",
    "WHERE n.communityId IS NOT NULL\n",
    "RETURN n.communityId AS communityId, count(*) AS size\n",
    "ORDER BY size DESC\n",
    "\"\"\"\n",
    "cluster_sizes = execute_query(cluster_sizes_query)\n",
    "cluster_sizes_df = pd.DataFrame(cluster_sizes)\n",
    "cluster_sizes_df.rename(columns={'communityId':'Community ID'}, inplace=True)\n",
    "\n",
    "# Display\n",
    "print(\"Top 10 Clusters by Size:\")\n",
    "print(cluster_sizes_df.head())\n",
    "\n",
    "# Save DataFrame to a pickle file\n",
    "cluster_sizes_df.to_pickle('cluster_sizes.pkl')"
   ]
  },
  {
   "cell_type": "markdown",
   "id": "73d82b51-09dd-403c-adc0-510911f68d07",
   "metadata": {},
   "source": [
    "**Merge Cluster Size with DataFrame**"
   ]
  },
  {
   "cell_type": "code",
   "execution_count": 192,
   "id": "975b9d48-a02f-4c6b-b9f2-9e789b6ed9c8",
   "metadata": {},
   "outputs": [
    {
     "data": {
      "text/html": [
       "<div>\n",
       "<style scoped>\n",
       "    .dataframe tbody tr th:only-of-type {\n",
       "        vertical-align: middle;\n",
       "    }\n",
       "\n",
       "    .dataframe tbody tr th {\n",
       "        vertical-align: top;\n",
       "    }\n",
       "\n",
       "    .dataframe thead th {\n",
       "        text-align: right;\n",
       "    }\n",
       "</style>\n",
       "<table border=\"1\" class=\"dataframe\">\n",
       "  <thead>\n",
       "    <tr style=\"text-align: right;\">\n",
       "      <th></th>\n",
       "      <th>Community ID</th>\n",
       "      <th>Total CVEs</th>\n",
       "      <th>Num_Releases</th>\n",
       "      <th>Average Severity Score</th>\n",
       "      <th>Normalized Total CVEs</th>\n",
       "      <th>Average Freshness (Days)</th>\n",
       "      <th>Average Popularity</th>\n",
       "      <th>Average Speed (Days)</th>\n",
       "      <th>Risk Score</th>\n",
       "      <th>size</th>\n",
       "    </tr>\n",
       "  </thead>\n",
       "  <tbody>\n",
       "    <tr>\n",
       "      <th>0</th>\n",
       "      <td>0</td>\n",
       "      <td>NaN</td>\n",
       "      <td>NaN</td>\n",
       "      <td>0.0</td>\n",
       "      <td>0.0</td>\n",
       "      <td>31.300386</td>\n",
       "      <td>0.0</td>\n",
       "      <td>0.003755</td>\n",
       "      <td>-0.072326</td>\n",
       "      <td>20</td>\n",
       "    </tr>\n",
       "    <tr>\n",
       "      <th>1</th>\n",
       "      <td>1</td>\n",
       "      <td>NaN</td>\n",
       "      <td>NaN</td>\n",
       "      <td>0.0</td>\n",
       "      <td>0.0</td>\n",
       "      <td>195.021071</td>\n",
       "      <td>0.0</td>\n",
       "      <td>0.001709</td>\n",
       "      <td>-0.047453</td>\n",
       "      <td>5</td>\n",
       "    </tr>\n",
       "    <tr>\n",
       "      <th>2</th>\n",
       "      <td>2</td>\n",
       "      <td>NaN</td>\n",
       "      <td>NaN</td>\n",
       "      <td>0.0</td>\n",
       "      <td>0.0</td>\n",
       "      <td>0.000000</td>\n",
       "      <td>0.0</td>\n",
       "      <td>0.000000</td>\n",
       "      <td>-0.077116</td>\n",
       "      <td>13</td>\n",
       "    </tr>\n",
       "    <tr>\n",
       "      <th>3</th>\n",
       "      <td>3</td>\n",
       "      <td>NaN</td>\n",
       "      <td>NaN</td>\n",
       "      <td>0.0</td>\n",
       "      <td>0.0</td>\n",
       "      <td>0.000000</td>\n",
       "      <td>0.0</td>\n",
       "      <td>0.000000</td>\n",
       "      <td>-0.077116</td>\n",
       "      <td>3</td>\n",
       "    </tr>\n",
       "    <tr>\n",
       "      <th>4</th>\n",
       "      <td>4</td>\n",
       "      <td>NaN</td>\n",
       "      <td>NaN</td>\n",
       "      <td>0.0</td>\n",
       "      <td>0.0</td>\n",
       "      <td>0.000000</td>\n",
       "      <td>0.0</td>\n",
       "      <td>0.000000</td>\n",
       "      <td>-0.077116</td>\n",
       "      <td>3</td>\n",
       "    </tr>\n",
       "  </tbody>\n",
       "</table>\n",
       "</div>"
      ],
      "text/plain": [
       "   Community ID  Total CVEs  Num_Releases  Average Severity Score  \\\n",
       "0             0         NaN           NaN                     0.0   \n",
       "1             1         NaN           NaN                     0.0   \n",
       "2             2         NaN           NaN                     0.0   \n",
       "3             3         NaN           NaN                     0.0   \n",
       "4             4         NaN           NaN                     0.0   \n",
       "\n",
       "   Normalized Total CVEs  Average Freshness (Days)  Average Popularity  \\\n",
       "0                    0.0                 31.300386                 0.0   \n",
       "1                    0.0                195.021071                 0.0   \n",
       "2                    0.0                  0.000000                 0.0   \n",
       "3                    0.0                  0.000000                 0.0   \n",
       "4                    0.0                  0.000000                 0.0   \n",
       "\n",
       "   Average Speed (Days)  Risk Score  size  \n",
       "0              0.003755   -0.072326    20  \n",
       "1              0.001709   -0.047453     5  \n",
       "2              0.000000   -0.077116    13  \n",
       "3              0.000000   -0.077116     3  \n",
       "4              0.000000   -0.077116     3  "
      ]
     },
     "execution_count": 192,
     "metadata": {},
     "output_type": "execute_result"
    }
   ],
   "source": [
    "# Load Previous Files \n",
    "cluster_total_metrics_temp = pd.read_pickle('cluster_risk_metrics_pca.pkl')\n",
    "cluster_sizes_temp = pd.read_pickle('cluster_sizes.pkl')\n",
    "\n",
    "# Merge Files and Save\n",
    "cluster_total_metrics1 =  cluster_total_metrics_temp.merge(cluster_sizes_temp, on='Community ID', how='left')\n",
    "cluster_total_metrics1.to_pickle('cluster_total_metrics1.pkl')\n",
    "cluster_total_metrics1.head()"
   ]
  },
  {
   "cell_type": "markdown",
   "id": "990643fd-63c8-4b3b-912d-6224ba0fa1d8",
   "metadata": {},
   "source": [
    "**Inter Cluster Connections**"
   ]
  },
  {
   "cell_type": "code",
   "execution_count": 469,
   "id": "c2e13050-2a1c-4ab8-ac00-6a5866278b21",
   "metadata": {},
   "outputs": [
    {
     "name": "stdout",
     "output_type": "stream",
     "text": [
      "Top 10 Inter-Cluster Connections:\n",
      "   Community ID  Target Cluster  connections\n",
      "0         48568           29418      1791786\n",
      "1         29418           48568      1447774\n",
      "2         34416           29418       837511\n",
      "3         34416           28947       711388\n",
      "4         29418           28947       699461\n"
     ]
    }
   ],
   "source": [
    "# Query to analyze inter-cluster relationships\n",
    "inter_cluster_query = f\"\"\"\n",
    "MATCH (a)-[r]->(b)\n",
    "WHERE a.communityId <> b.communityId\n",
    "RETURN a.communityId AS sourceCluster, b.communityId AS targetCluster, count(*) AS connections\n",
    "ORDER BY connections DESC\n",
    "\"\"\"\n",
    "inter_cluster_connections = execute_query(inter_cluster_query)\n",
    "inter_cluster_df = pd.DataFrame(inter_cluster_connections)\n",
    "inter_cluster_df.rename(columns={'sourceCluster':'Community ID'}, inplace=True)\n",
    "inter_cluster_df.rename(columns={'targetCluster':'Target Cluster'}, inplace=True)\n",
    "\n",
    "# Display\n",
    "print(\"Top 10 Inter-Cluster Connections:\")\n",
    "print(inter_cluster_df.head())\n",
    "\n",
    "# Save For Future Use\n",
    "inter_cluster_df.to_pickle('inter_cluster_df.pkl')"
   ]
  },
  {
   "cell_type": "markdown",
   "id": "19a16e49-7b93-4220-a93a-57ae6f9bba87",
   "metadata": {},
   "source": [
    "**Merge Cluster Connections with DataFrame**"
   ]
  },
  {
   "cell_type": "code",
   "execution_count": 194,
   "id": "f55b96bb-630b-45bd-a447-120dffb03dee",
   "metadata": {},
   "outputs": [
    {
     "data": {
      "text/html": [
       "<div>\n",
       "<style scoped>\n",
       "    .dataframe tbody tr th:only-of-type {\n",
       "        vertical-align: middle;\n",
       "    }\n",
       "\n",
       "    .dataframe tbody tr th {\n",
       "        vertical-align: top;\n",
       "    }\n",
       "\n",
       "    .dataframe thead th {\n",
       "        text-align: right;\n",
       "    }\n",
       "</style>\n",
       "<table border=\"1\" class=\"dataframe\">\n",
       "  <thead>\n",
       "    <tr style=\"text-align: right;\">\n",
       "      <th></th>\n",
       "      <th>Community ID</th>\n",
       "      <th>Total CVEs</th>\n",
       "      <th>Num_Releases</th>\n",
       "      <th>Average Severity Score</th>\n",
       "      <th>Normalized Total CVEs</th>\n",
       "      <th>Average Freshness (Days)</th>\n",
       "      <th>Average Popularity</th>\n",
       "      <th>Average Speed (Days)</th>\n",
       "      <th>Risk Score</th>\n",
       "      <th>size</th>\n",
       "      <th>Target Cluster</th>\n",
       "      <th>connections</th>\n",
       "    </tr>\n",
       "  </thead>\n",
       "  <tbody>\n",
       "    <tr>\n",
       "      <th>0</th>\n",
       "      <td>0</td>\n",
       "      <td>NaN</td>\n",
       "      <td>NaN</td>\n",
       "      <td>0.0</td>\n",
       "      <td>0.0</td>\n",
       "      <td>31.300386</td>\n",
       "      <td>0.0</td>\n",
       "      <td>0.003755</td>\n",
       "      <td>-0.072326</td>\n",
       "      <td>20</td>\n",
       "      <td>NaN</td>\n",
       "      <td>NaN</td>\n",
       "    </tr>\n",
       "    <tr>\n",
       "      <th>1</th>\n",
       "      <td>1</td>\n",
       "      <td>NaN</td>\n",
       "      <td>NaN</td>\n",
       "      <td>0.0</td>\n",
       "      <td>0.0</td>\n",
       "      <td>195.021071</td>\n",
       "      <td>0.0</td>\n",
       "      <td>0.001709</td>\n",
       "      <td>-0.047453</td>\n",
       "      <td>5</td>\n",
       "      <td>NaN</td>\n",
       "      <td>NaN</td>\n",
       "    </tr>\n",
       "    <tr>\n",
       "      <th>2</th>\n",
       "      <td>2</td>\n",
       "      <td>NaN</td>\n",
       "      <td>NaN</td>\n",
       "      <td>0.0</td>\n",
       "      <td>0.0</td>\n",
       "      <td>0.000000</td>\n",
       "      <td>0.0</td>\n",
       "      <td>0.000000</td>\n",
       "      <td>-0.077116</td>\n",
       "      <td>13</td>\n",
       "      <td>NaN</td>\n",
       "      <td>NaN</td>\n",
       "    </tr>\n",
       "    <tr>\n",
       "      <th>3</th>\n",
       "      <td>3</td>\n",
       "      <td>NaN</td>\n",
       "      <td>NaN</td>\n",
       "      <td>0.0</td>\n",
       "      <td>0.0</td>\n",
       "      <td>0.000000</td>\n",
       "      <td>0.0</td>\n",
       "      <td>0.000000</td>\n",
       "      <td>-0.077116</td>\n",
       "      <td>3</td>\n",
       "      <td>NaN</td>\n",
       "      <td>NaN</td>\n",
       "    </tr>\n",
       "    <tr>\n",
       "      <th>4</th>\n",
       "      <td>4</td>\n",
       "      <td>NaN</td>\n",
       "      <td>NaN</td>\n",
       "      <td>0.0</td>\n",
       "      <td>0.0</td>\n",
       "      <td>0.000000</td>\n",
       "      <td>0.0</td>\n",
       "      <td>0.000000</td>\n",
       "      <td>-0.077116</td>\n",
       "      <td>3</td>\n",
       "      <td>NaN</td>\n",
       "      <td>NaN</td>\n",
       "    </tr>\n",
       "  </tbody>\n",
       "</table>\n",
       "</div>"
      ],
      "text/plain": [
       "   Community ID  Total CVEs  Num_Releases  Average Severity Score  \\\n",
       "0             0         NaN           NaN                     0.0   \n",
       "1             1         NaN           NaN                     0.0   \n",
       "2             2         NaN           NaN                     0.0   \n",
       "3             3         NaN           NaN                     0.0   \n",
       "4             4         NaN           NaN                     0.0   \n",
       "\n",
       "   Normalized Total CVEs  Average Freshness (Days)  Average Popularity  \\\n",
       "0                    0.0                 31.300386                 0.0   \n",
       "1                    0.0                195.021071                 0.0   \n",
       "2                    0.0                  0.000000                 0.0   \n",
       "3                    0.0                  0.000000                 0.0   \n",
       "4                    0.0                  0.000000                 0.0   \n",
       "\n",
       "   Average Speed (Days)  Risk Score  size  Target Cluster  connections  \n",
       "0              0.003755   -0.072326    20             NaN          NaN  \n",
       "1              0.001709   -0.047453     5             NaN          NaN  \n",
       "2              0.000000   -0.077116    13             NaN          NaN  \n",
       "3              0.000000   -0.077116     3             NaN          NaN  \n",
       "4              0.000000   -0.077116     3             NaN          NaN  "
      ]
     },
     "execution_count": 194,
     "metadata": {},
     "output_type": "execute_result"
    }
   ],
   "source": [
    "# Load Previous Files\n",
    "cluster_total_metrics_temp = pd.read_pickle('cluster_total_metrics1.pkl')\n",
    "cluster_inter_connections = pd.read_pickle('inter_cluster_df.pkl')\n",
    "\n",
    "# Merge and Save\n",
    "cluster_total_metrics2 =  cluster_total_metrics_temp.merge(cluster_inter_connections, on='Community ID', how='left')\n",
    "cluster_total_metrics2.to_pickle('cluster_total_metrics2.pkl')\n",
    "cluster_total_metrics2.head()"
   ]
  },
  {
   "cell_type": "markdown",
   "id": "72db1260-7273-4e99-9827-5bd0f4e5d38f",
   "metadata": {},
   "source": [
    "**Export for saving and viewing**"
   ]
  },
  {
   "cell_type": "code",
   "execution_count": 130,
   "id": "d4fa0444-87f6-459e-a5e8-3a7ffce32632",
   "metadata": {},
   "outputs": [],
   "source": [
    "# Load Pickle File\n",
    "cluster_total_metrics2 = pd.read_pickle('cluster_total_metrics2.pkl')"
   ]
  },
  {
   "cell_type": "code",
   "execution_count": 198,
   "id": "38616d73-b5e7-4207-9e89-79b2d934ba89",
   "metadata": {},
   "outputs": [
    {
     "data": {
      "text/html": [
       "<div>\n",
       "<style scoped>\n",
       "    .dataframe tbody tr th:only-of-type {\n",
       "        vertical-align: middle;\n",
       "    }\n",
       "\n",
       "    .dataframe tbody tr th {\n",
       "        vertical-align: top;\n",
       "    }\n",
       "\n",
       "    .dataframe thead th {\n",
       "        text-align: right;\n",
       "    }\n",
       "</style>\n",
       "<table border=\"1\" class=\"dataframe\">\n",
       "  <thead>\n",
       "    <tr style=\"text-align: right;\">\n",
       "      <th></th>\n",
       "      <th>Community ID</th>\n",
       "      <th>Total CVEs</th>\n",
       "      <th>Num_Releases</th>\n",
       "      <th>Average Severity Score</th>\n",
       "      <th>Normalized Total CVEs</th>\n",
       "      <th>Average Freshness (Days)</th>\n",
       "      <th>Average Popularity</th>\n",
       "      <th>Average Speed (Days)</th>\n",
       "      <th>Risk Score</th>\n",
       "      <th>size</th>\n",
       "      <th>Target Cluster</th>\n",
       "      <th>connections</th>\n",
       "    </tr>\n",
       "  </thead>\n",
       "  <tbody>\n",
       "    <tr>\n",
       "      <th>39352</th>\n",
       "      <td>37666</td>\n",
       "      <td>2470.0</td>\n",
       "      <td>163.0</td>\n",
       "      <td>2.491498</td>\n",
       "      <td>15.153374</td>\n",
       "      <td>2028.301837</td>\n",
       "      <td>0.000000</td>\n",
       "      <td>0.045548</td>\n",
       "      <td>1.000000</td>\n",
       "      <td>179</td>\n",
       "      <td>NaN</td>\n",
       "      <td>NaN</td>\n",
       "    </tr>\n",
       "    <tr>\n",
       "      <th>45374</th>\n",
       "      <td>43639</td>\n",
       "      <td>1482.0</td>\n",
       "      <td>132.0</td>\n",
       "      <td>2.941970</td>\n",
       "      <td>11.227273</td>\n",
       "      <td>712.004092</td>\n",
       "      <td>0.000000</td>\n",
       "      <td>0.066108</td>\n",
       "      <td>0.802396</td>\n",
       "      <td>143</td>\n",
       "      <td>NaN</td>\n",
       "      <td>NaN</td>\n",
       "    </tr>\n",
       "    <tr>\n",
       "      <th>43632</th>\n",
       "      <td>41923</td>\n",
       "      <td>259.0</td>\n",
       "      <td>27.0</td>\n",
       "      <td>2.602317</td>\n",
       "      <td>9.592593</td>\n",
       "      <td>2044.736117</td>\n",
       "      <td>0.000000</td>\n",
       "      <td>0.010076</td>\n",
       "      <td>0.694845</td>\n",
       "      <td>29</td>\n",
       "      <td>NaN</td>\n",
       "      <td>NaN</td>\n",
       "    </tr>\n",
       "    <tr>\n",
       "      <th>11661</th>\n",
       "      <td>11268</td>\n",
       "      <td>71.0</td>\n",
       "      <td>8.0</td>\n",
       "      <td>2.000000</td>\n",
       "      <td>8.875000</td>\n",
       "      <td>914.076289</td>\n",
       "      <td>0.000000</td>\n",
       "      <td>0.008397</td>\n",
       "      <td>0.616346</td>\n",
       "      <td>12</td>\n",
       "      <td>NaN</td>\n",
       "      <td>NaN</td>\n",
       "    </tr>\n",
       "    <tr>\n",
       "      <th>30048</th>\n",
       "      <td>28947</td>\n",
       "      <td>827.0</td>\n",
       "      <td>292.0</td>\n",
       "      <td>2.585248</td>\n",
       "      <td>2.832192</td>\n",
       "      <td>878.906223</td>\n",
       "      <td>6.663125</td>\n",
       "      <td>0.100989</td>\n",
       "      <td>0.559408</td>\n",
       "      <td>561882</td>\n",
       "      <td>35373.0</td>\n",
       "      <td>24795.0</td>\n",
       "    </tr>\n",
       "  </tbody>\n",
       "</table>\n",
       "</div>"
      ],
      "text/plain": [
       "       Community ID  Total CVEs  Num_Releases  Average Severity Score  \\\n",
       "39352         37666      2470.0         163.0                2.491498   \n",
       "45374         43639      1482.0         132.0                2.941970   \n",
       "43632         41923       259.0          27.0                2.602317   \n",
       "11661         11268        71.0           8.0                2.000000   \n",
       "30048         28947       827.0         292.0                2.585248   \n",
       "\n",
       "       Normalized Total CVEs  Average Freshness (Days)  Average Popularity  \\\n",
       "39352              15.153374               2028.301837            0.000000   \n",
       "45374              11.227273                712.004092            0.000000   \n",
       "43632               9.592593               2044.736117            0.000000   \n",
       "11661               8.875000                914.076289            0.000000   \n",
       "30048               2.832192                878.906223            6.663125   \n",
       "\n",
       "       Average Speed (Days)  Risk Score    size  Target Cluster  connections  \n",
       "39352              0.045548    1.000000     179             NaN          NaN  \n",
       "45374              0.066108    0.802396     143             NaN          NaN  \n",
       "43632              0.010076    0.694845      29             NaN          NaN  \n",
       "11661              0.008397    0.616346      12             NaN          NaN  \n",
       "30048              0.100989    0.559408  561882         35373.0      24795.0  "
      ]
     },
     "execution_count": 198,
     "metadata": {},
     "output_type": "execute_result"
    }
   ],
   "source": [
    "# Sort the DataFrame by the 'Risk Score' column in descending order\n",
    "cluster_metrics_sorted = cluster_metrics_final.sort_values(by='Risk Score', ascending=False)\n",
    "\n",
    "# Display the top rows of the sorted DataFrame\n",
    "cluster_metrics_sorted.head()"
   ]
  },
  {
   "cell_type": "code",
   "execution_count": 134,
   "id": "a0732e3b-67d4-4bb7-a8c8-17ca363d1205",
   "metadata": {},
   "outputs": [],
   "source": [
    "cluster_metrics_final.to_csv('cluster_metrics_final.csv', index=False)"
   ]
  },
  {
   "cell_type": "code",
   "execution_count": null,
   "id": "9ba82293-622f-48fb-88dd-5ca7eff71cd7",
   "metadata": {},
   "outputs": [],
   "source": []
  }
 ],
 "metadata": {
  "kernelspec": {
   "display_name": "Python 3 (ipykernel)",
   "language": "python",
   "name": "python3"
  },
  "language_info": {
   "codemirror_mode": {
    "name": "ipython",
    "version": 3
   },
   "file_extension": ".py",
   "mimetype": "text/x-python",
   "name": "python",
   "nbconvert_exporter": "python",
   "pygments_lexer": "ipython3",
   "version": "3.11.7"
  }
 },
 "nbformat": 4,
 "nbformat_minor": 5
}
